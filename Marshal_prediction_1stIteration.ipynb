{
  "cells": [
    {
      "cell_type": "code",
      "execution_count": null,
      "metadata": {
        "id": "0egqFH3Q0MCX"
      },
      "outputs": [],
      "source": [
        "import tensorflow as tf\n",
        "from tensorflow import keras\n",
        "import matplotlib.pyplot as plt\n",
        "import pandas as pd\n",
        "%matplotlib inline\n",
        "import numpy as np\n",
        "from tensorflow.keras.models import Sequential\n",
        "from tensorflow.keras.layers import Dense\n",
        "from sklearn.metrics import accuracy_score\n",
        "from sklearn.model_selection import train_test_split\n",
        "from sklearn.preprocessing import normalize\n",
        "from sklearn.metrics import roc_curve, roc_auc_score\n",
        "import joblib\n",
        "from sklearn import preprocessing"
      ]
    },
    {
      "cell_type": "code",
      "execution_count": null,
      "metadata": {
        "colab": {
          "base_uri": "https://localhost:8080/",
          "height": 461
        },
        "id": "gcVDfh_z1Vrm",
        "outputId": "caa0d4e0-ac79-4264-a3f3-aaff981e8ba4"
      },
      "outputs": [
        {
          "output_type": "execute_result",
          "data": {
            "text/plain": [
              "      Unnamed: 0  trend_id name  start_date    end_date  percentage_increase  \\\n",
              "0              0      2442  AAL   2/01/2018  19/01/2018             9.567842   \n",
              "1              1      2443  AAL  19/01/2018  12/02/2018           -13.727181   \n",
              "2              2      2444  AAL  12/02/2018  12/03/2018            12.796965   \n",
              "3              3      2445  AAL  12/03/2018  10/05/2018           -25.592919   \n",
              "4              4      2446  AAL  10/05/2018   1/06/2018             4.662224   \n",
              "...          ...       ...  ...         ...         ...                  ...   \n",
              "7035        7035      4233    X   6/04/2022   8/07/2022           -50.823333   \n",
              "7036        7036      4234    X   8/07/2022  17/08/2022            32.690114   \n",
              "7037        7037      4235    X  17/08/2022   4/10/2022           -12.617617   \n",
              "7038        7038      4236    X   4/10/2022   7/12/2022            30.445420   \n",
              "7039        7039      4237    X   7/12/2022  23/12/2022            -2.589120   \n",
              "\n",
              "     previous_start_date previous_end_date  previous_trend_duration  \\\n",
              "0                    NaN               NaN                      NaN   \n",
              "1              2/01/2018        19/01/2018                     17.0   \n",
              "2             19/01/2018        12/02/2018                     24.0   \n",
              "3             12/02/2018        12/03/2018                     28.0   \n",
              "4             12/03/2018        10/05/2018                     59.0   \n",
              "...                  ...               ...                      ...   \n",
              "7035          28/01/2022         6/04/2022                     68.0   \n",
              "7036           6/04/2022         8/07/2022                     93.0   \n",
              "7037           8/07/2022        17/08/2022                     40.0   \n",
              "7038          17/08/2022         4/10/2022                     48.0   \n",
              "7039           4/10/2022         7/12/2022                     64.0   \n",
              "\n",
              "      previous_percentage  ...  Storm_MA30   Storm_MA7  binaryverdict_grouchy  \\\n",
              "0                     NaN  ...   91.406998  113.188484                      1   \n",
              "1                9.567842  ...   93.899986   82.561386                      0   \n",
              "2              -13.727181  ...   77.541450   72.046951                      1   \n",
              "3               12.796965  ...   80.524078  106.446976                      0   \n",
              "4              -25.592919  ...  134.853241  135.584061                      1   \n",
              "...                   ...  ...         ...         ...                    ...   \n",
              "7035            83.367452  ...  272.858765  208.559296                      0   \n",
              "7036           -50.823333  ...  119.005142   88.629929                      1   \n",
              "7037            32.690114  ...  139.338638  131.046768                      0   \n",
              "7038           -12.617617  ...  133.855667  157.646835                      1   \n",
              "7039            30.445420  ...  108.533897  101.648697                      0   \n",
              "\n",
              "      Grouchy SVM  BinaryVerdictBernadotte  Bernadotte SVM  \\\n",
              "0               1                        1               1   \n",
              "1               0                        1               1   \n",
              "2               1                        1               1   \n",
              "3               0                        1               1   \n",
              "4               1                        1               1   \n",
              "...           ...                      ...             ...   \n",
              "7035            0                        1               1   \n",
              "7036            1                        1               1   \n",
              "7037            0                        1               1   \n",
              "7038            1                        1               1   \n",
              "7039            0                        1               1   \n",
              "\n",
              "      binaryverdict_Marmont  bernadotte_random_forest  Marmont_random_forest  \\\n",
              "0                         1                         1                      1   \n",
              "1                         1                         1                      1   \n",
              "2                         1                         1                      1   \n",
              "3                         1                         1                      1   \n",
              "4                         1                         1                      1   \n",
              "...                     ...                       ...                    ...   \n",
              "7035                      1                         1                      1   \n",
              "7036                      1                         1                      1   \n",
              "7037                      1                         1                      1   \n",
              "7038                      1                         1                      1   \n",
              "7039                      1                         1                      1   \n",
              "\n",
              "      Grouchy_random_forest  \n",
              "0                         1  \n",
              "1                         0  \n",
              "2                         1  \n",
              "3                         0  \n",
              "4                         1  \n",
              "...                     ...  \n",
              "7035                      0  \n",
              "7036                      1  \n",
              "7037                      0  \n",
              "7038                      1  \n",
              "7039                      0  \n",
              "\n",
              "[7040 rows x 49 columns]"
            ],
            "text/html": [
              "\n",
              "  <div id=\"df-9e1bab27-8495-41e7-acb2-b264a2fcf1ca\" class=\"colab-df-container\">\n",
              "    <div>\n",
              "<style scoped>\n",
              "    .dataframe tbody tr th:only-of-type {\n",
              "        vertical-align: middle;\n",
              "    }\n",
              "\n",
              "    .dataframe tbody tr th {\n",
              "        vertical-align: top;\n",
              "    }\n",
              "\n",
              "    .dataframe thead th {\n",
              "        text-align: right;\n",
              "    }\n",
              "</style>\n",
              "<table border=\"1\" class=\"dataframe\">\n",
              "  <thead>\n",
              "    <tr style=\"text-align: right;\">\n",
              "      <th></th>\n",
              "      <th>Unnamed: 0</th>\n",
              "      <th>trend_id</th>\n",
              "      <th>name</th>\n",
              "      <th>start_date</th>\n",
              "      <th>end_date</th>\n",
              "      <th>percentage_increase</th>\n",
              "      <th>previous_start_date</th>\n",
              "      <th>previous_end_date</th>\n",
              "      <th>previous_trend_duration</th>\n",
              "      <th>previous_percentage</th>\n",
              "      <th>...</th>\n",
              "      <th>Storm_MA30</th>\n",
              "      <th>Storm_MA7</th>\n",
              "      <th>binaryverdict_grouchy</th>\n",
              "      <th>Grouchy SVM</th>\n",
              "      <th>BinaryVerdictBernadotte</th>\n",
              "      <th>Bernadotte SVM</th>\n",
              "      <th>binaryverdict_Marmont</th>\n",
              "      <th>bernadotte_random_forest</th>\n",
              "      <th>Marmont_random_forest</th>\n",
              "      <th>Grouchy_random_forest</th>\n",
              "    </tr>\n",
              "  </thead>\n",
              "  <tbody>\n",
              "    <tr>\n",
              "      <th>0</th>\n",
              "      <td>0</td>\n",
              "      <td>2442</td>\n",
              "      <td>AAL</td>\n",
              "      <td>2/01/2018</td>\n",
              "      <td>19/01/2018</td>\n",
              "      <td>9.567842</td>\n",
              "      <td>NaN</td>\n",
              "      <td>NaN</td>\n",
              "      <td>NaN</td>\n",
              "      <td>NaN</td>\n",
              "      <td>...</td>\n",
              "      <td>91.406998</td>\n",
              "      <td>113.188484</td>\n",
              "      <td>1</td>\n",
              "      <td>1</td>\n",
              "      <td>1</td>\n",
              "      <td>1</td>\n",
              "      <td>1</td>\n",
              "      <td>1</td>\n",
              "      <td>1</td>\n",
              "      <td>1</td>\n",
              "    </tr>\n",
              "    <tr>\n",
              "      <th>1</th>\n",
              "      <td>1</td>\n",
              "      <td>2443</td>\n",
              "      <td>AAL</td>\n",
              "      <td>19/01/2018</td>\n",
              "      <td>12/02/2018</td>\n",
              "      <td>-13.727181</td>\n",
              "      <td>2/01/2018</td>\n",
              "      <td>19/01/2018</td>\n",
              "      <td>17.0</td>\n",
              "      <td>9.567842</td>\n",
              "      <td>...</td>\n",
              "      <td>93.899986</td>\n",
              "      <td>82.561386</td>\n",
              "      <td>0</td>\n",
              "      <td>0</td>\n",
              "      <td>1</td>\n",
              "      <td>1</td>\n",
              "      <td>1</td>\n",
              "      <td>1</td>\n",
              "      <td>1</td>\n",
              "      <td>0</td>\n",
              "    </tr>\n",
              "    <tr>\n",
              "      <th>2</th>\n",
              "      <td>2</td>\n",
              "      <td>2444</td>\n",
              "      <td>AAL</td>\n",
              "      <td>12/02/2018</td>\n",
              "      <td>12/03/2018</td>\n",
              "      <td>12.796965</td>\n",
              "      <td>19/01/2018</td>\n",
              "      <td>12/02/2018</td>\n",
              "      <td>24.0</td>\n",
              "      <td>-13.727181</td>\n",
              "      <td>...</td>\n",
              "      <td>77.541450</td>\n",
              "      <td>72.046951</td>\n",
              "      <td>1</td>\n",
              "      <td>1</td>\n",
              "      <td>1</td>\n",
              "      <td>1</td>\n",
              "      <td>1</td>\n",
              "      <td>1</td>\n",
              "      <td>1</td>\n",
              "      <td>1</td>\n",
              "    </tr>\n",
              "    <tr>\n",
              "      <th>3</th>\n",
              "      <td>3</td>\n",
              "      <td>2445</td>\n",
              "      <td>AAL</td>\n",
              "      <td>12/03/2018</td>\n",
              "      <td>10/05/2018</td>\n",
              "      <td>-25.592919</td>\n",
              "      <td>12/02/2018</td>\n",
              "      <td>12/03/2018</td>\n",
              "      <td>28.0</td>\n",
              "      <td>12.796965</td>\n",
              "      <td>...</td>\n",
              "      <td>80.524078</td>\n",
              "      <td>106.446976</td>\n",
              "      <td>0</td>\n",
              "      <td>0</td>\n",
              "      <td>1</td>\n",
              "      <td>1</td>\n",
              "      <td>1</td>\n",
              "      <td>1</td>\n",
              "      <td>1</td>\n",
              "      <td>0</td>\n",
              "    </tr>\n",
              "    <tr>\n",
              "      <th>4</th>\n",
              "      <td>4</td>\n",
              "      <td>2446</td>\n",
              "      <td>AAL</td>\n",
              "      <td>10/05/2018</td>\n",
              "      <td>1/06/2018</td>\n",
              "      <td>4.662224</td>\n",
              "      <td>12/03/2018</td>\n",
              "      <td>10/05/2018</td>\n",
              "      <td>59.0</td>\n",
              "      <td>-25.592919</td>\n",
              "      <td>...</td>\n",
              "      <td>134.853241</td>\n",
              "      <td>135.584061</td>\n",
              "      <td>1</td>\n",
              "      <td>1</td>\n",
              "      <td>1</td>\n",
              "      <td>1</td>\n",
              "      <td>1</td>\n",
              "      <td>1</td>\n",
              "      <td>1</td>\n",
              "      <td>1</td>\n",
              "    </tr>\n",
              "    <tr>\n",
              "      <th>...</th>\n",
              "      <td>...</td>\n",
              "      <td>...</td>\n",
              "      <td>...</td>\n",
              "      <td>...</td>\n",
              "      <td>...</td>\n",
              "      <td>...</td>\n",
              "      <td>...</td>\n",
              "      <td>...</td>\n",
              "      <td>...</td>\n",
              "      <td>...</td>\n",
              "      <td>...</td>\n",
              "      <td>...</td>\n",
              "      <td>...</td>\n",
              "      <td>...</td>\n",
              "      <td>...</td>\n",
              "      <td>...</td>\n",
              "      <td>...</td>\n",
              "      <td>...</td>\n",
              "      <td>...</td>\n",
              "      <td>...</td>\n",
              "      <td>...</td>\n",
              "    </tr>\n",
              "    <tr>\n",
              "      <th>7035</th>\n",
              "      <td>7035</td>\n",
              "      <td>4233</td>\n",
              "      <td>X</td>\n",
              "      <td>6/04/2022</td>\n",
              "      <td>8/07/2022</td>\n",
              "      <td>-50.823333</td>\n",
              "      <td>28/01/2022</td>\n",
              "      <td>6/04/2022</td>\n",
              "      <td>68.0</td>\n",
              "      <td>83.367452</td>\n",
              "      <td>...</td>\n",
              "      <td>272.858765</td>\n",
              "      <td>208.559296</td>\n",
              "      <td>0</td>\n",
              "      <td>0</td>\n",
              "      <td>1</td>\n",
              "      <td>1</td>\n",
              "      <td>1</td>\n",
              "      <td>1</td>\n",
              "      <td>1</td>\n",
              "      <td>0</td>\n",
              "    </tr>\n",
              "    <tr>\n",
              "      <th>7036</th>\n",
              "      <td>7036</td>\n",
              "      <td>4234</td>\n",
              "      <td>X</td>\n",
              "      <td>8/07/2022</td>\n",
              "      <td>17/08/2022</td>\n",
              "      <td>32.690114</td>\n",
              "      <td>6/04/2022</td>\n",
              "      <td>8/07/2022</td>\n",
              "      <td>93.0</td>\n",
              "      <td>-50.823333</td>\n",
              "      <td>...</td>\n",
              "      <td>119.005142</td>\n",
              "      <td>88.629929</td>\n",
              "      <td>1</td>\n",
              "      <td>1</td>\n",
              "      <td>1</td>\n",
              "      <td>1</td>\n",
              "      <td>1</td>\n",
              "      <td>1</td>\n",
              "      <td>1</td>\n",
              "      <td>1</td>\n",
              "    </tr>\n",
              "    <tr>\n",
              "      <th>7037</th>\n",
              "      <td>7037</td>\n",
              "      <td>4235</td>\n",
              "      <td>X</td>\n",
              "      <td>17/08/2022</td>\n",
              "      <td>4/10/2022</td>\n",
              "      <td>-12.617617</td>\n",
              "      <td>8/07/2022</td>\n",
              "      <td>17/08/2022</td>\n",
              "      <td>40.0</td>\n",
              "      <td>32.690114</td>\n",
              "      <td>...</td>\n",
              "      <td>139.338638</td>\n",
              "      <td>131.046768</td>\n",
              "      <td>0</td>\n",
              "      <td>0</td>\n",
              "      <td>1</td>\n",
              "      <td>1</td>\n",
              "      <td>1</td>\n",
              "      <td>1</td>\n",
              "      <td>1</td>\n",
              "      <td>0</td>\n",
              "    </tr>\n",
              "    <tr>\n",
              "      <th>7038</th>\n",
              "      <td>7038</td>\n",
              "      <td>4236</td>\n",
              "      <td>X</td>\n",
              "      <td>4/10/2022</td>\n",
              "      <td>7/12/2022</td>\n",
              "      <td>30.445420</td>\n",
              "      <td>17/08/2022</td>\n",
              "      <td>4/10/2022</td>\n",
              "      <td>48.0</td>\n",
              "      <td>-12.617617</td>\n",
              "      <td>...</td>\n",
              "      <td>133.855667</td>\n",
              "      <td>157.646835</td>\n",
              "      <td>1</td>\n",
              "      <td>1</td>\n",
              "      <td>1</td>\n",
              "      <td>1</td>\n",
              "      <td>1</td>\n",
              "      <td>1</td>\n",
              "      <td>1</td>\n",
              "      <td>1</td>\n",
              "    </tr>\n",
              "    <tr>\n",
              "      <th>7039</th>\n",
              "      <td>7039</td>\n",
              "      <td>4237</td>\n",
              "      <td>X</td>\n",
              "      <td>7/12/2022</td>\n",
              "      <td>23/12/2022</td>\n",
              "      <td>-2.589120</td>\n",
              "      <td>4/10/2022</td>\n",
              "      <td>7/12/2022</td>\n",
              "      <td>64.0</td>\n",
              "      <td>30.445420</td>\n",
              "      <td>...</td>\n",
              "      <td>108.533897</td>\n",
              "      <td>101.648697</td>\n",
              "      <td>0</td>\n",
              "      <td>0</td>\n",
              "      <td>1</td>\n",
              "      <td>1</td>\n",
              "      <td>1</td>\n",
              "      <td>1</td>\n",
              "      <td>1</td>\n",
              "      <td>0</td>\n",
              "    </tr>\n",
              "  </tbody>\n",
              "</table>\n",
              "<p>7040 rows × 49 columns</p>\n",
              "</div>\n",
              "    <div class=\"colab-df-buttons\">\n",
              "\n",
              "  <div class=\"colab-df-container\">\n",
              "    <button class=\"colab-df-convert\" onclick=\"convertToInteractive('df-9e1bab27-8495-41e7-acb2-b264a2fcf1ca')\"\n",
              "            title=\"Convert this dataframe to an interactive table.\"\n",
              "            style=\"display:none;\">\n",
              "\n",
              "  <svg xmlns=\"http://www.w3.org/2000/svg\" height=\"24px\" viewBox=\"0 -960 960 960\">\n",
              "    <path d=\"M120-120v-720h720v720H120Zm60-500h600v-160H180v160Zm220 220h160v-160H400v160Zm0 220h160v-160H400v160ZM180-400h160v-160H180v160Zm440 0h160v-160H620v160ZM180-180h160v-160H180v160Zm440 0h160v-160H620v160Z\"/>\n",
              "  </svg>\n",
              "    </button>\n",
              "\n",
              "  <style>\n",
              "    .colab-df-container {\n",
              "      display:flex;\n",
              "      gap: 12px;\n",
              "    }\n",
              "\n",
              "    .colab-df-convert {\n",
              "      background-color: #E8F0FE;\n",
              "      border: none;\n",
              "      border-radius: 50%;\n",
              "      cursor: pointer;\n",
              "      display: none;\n",
              "      fill: #1967D2;\n",
              "      height: 32px;\n",
              "      padding: 0 0 0 0;\n",
              "      width: 32px;\n",
              "    }\n",
              "\n",
              "    .colab-df-convert:hover {\n",
              "      background-color: #E2EBFA;\n",
              "      box-shadow: 0px 1px 2px rgba(60, 64, 67, 0.3), 0px 1px 3px 1px rgba(60, 64, 67, 0.15);\n",
              "      fill: #174EA6;\n",
              "    }\n",
              "\n",
              "    .colab-df-buttons div {\n",
              "      margin-bottom: 4px;\n",
              "    }\n",
              "\n",
              "    [theme=dark] .colab-df-convert {\n",
              "      background-color: #3B4455;\n",
              "      fill: #D2E3FC;\n",
              "    }\n",
              "\n",
              "    [theme=dark] .colab-df-convert:hover {\n",
              "      background-color: #434B5C;\n",
              "      box-shadow: 0px 1px 3px 1px rgba(0, 0, 0, 0.15);\n",
              "      filter: drop-shadow(0px 1px 2px rgba(0, 0, 0, 0.3));\n",
              "      fill: #FFFFFF;\n",
              "    }\n",
              "  </style>\n",
              "\n",
              "    <script>\n",
              "      const buttonEl =\n",
              "        document.querySelector('#df-9e1bab27-8495-41e7-acb2-b264a2fcf1ca button.colab-df-convert');\n",
              "      buttonEl.style.display =\n",
              "        google.colab.kernel.accessAllowed ? 'block' : 'none';\n",
              "\n",
              "      async function convertToInteractive(key) {\n",
              "        const element = document.querySelector('#df-9e1bab27-8495-41e7-acb2-b264a2fcf1ca');\n",
              "        const dataTable =\n",
              "          await google.colab.kernel.invokeFunction('convertToInteractive',\n",
              "                                                    [key], {});\n",
              "        if (!dataTable) return;\n",
              "\n",
              "        const docLinkHtml = 'Like what you see? Visit the ' +\n",
              "          '<a target=\"_blank\" href=https://colab.research.google.com/notebooks/data_table.ipynb>data table notebook</a>'\n",
              "          + ' to learn more about interactive tables.';\n",
              "        element.innerHTML = '';\n",
              "        dataTable['output_type'] = 'display_data';\n",
              "        await google.colab.output.renderOutput(dataTable, element);\n",
              "        const docLink = document.createElement('div');\n",
              "        docLink.innerHTML = docLinkHtml;\n",
              "        element.appendChild(docLink);\n",
              "      }\n",
              "    </script>\n",
              "  </div>\n",
              "\n",
              "\n",
              "<div id=\"df-d866902b-9f6e-4e04-b776-5447f298deb2\">\n",
              "  <button class=\"colab-df-quickchart\" onclick=\"quickchart('df-d866902b-9f6e-4e04-b776-5447f298deb2')\"\n",
              "            title=\"Suggest charts.\"\n",
              "            style=\"display:none;\">\n",
              "\n",
              "<svg xmlns=\"http://www.w3.org/2000/svg\" height=\"24px\"viewBox=\"0 0 24 24\"\n",
              "     width=\"24px\">\n",
              "    <g>\n",
              "        <path d=\"M19 3H5c-1.1 0-2 .9-2 2v14c0 1.1.9 2 2 2h14c1.1 0 2-.9 2-2V5c0-1.1-.9-2-2-2zM9 17H7v-7h2v7zm4 0h-2V7h2v10zm4 0h-2v-4h2v4z\"/>\n",
              "    </g>\n",
              "</svg>\n",
              "  </button>\n",
              "\n",
              "<style>\n",
              "  .colab-df-quickchart {\n",
              "      --bg-color: #E8F0FE;\n",
              "      --fill-color: #1967D2;\n",
              "      --hover-bg-color: #E2EBFA;\n",
              "      --hover-fill-color: #174EA6;\n",
              "      --disabled-fill-color: #AAA;\n",
              "      --disabled-bg-color: #DDD;\n",
              "  }\n",
              "\n",
              "  [theme=dark] .colab-df-quickchart {\n",
              "      --bg-color: #3B4455;\n",
              "      --fill-color: #D2E3FC;\n",
              "      --hover-bg-color: #434B5C;\n",
              "      --hover-fill-color: #FFFFFF;\n",
              "      --disabled-bg-color: #3B4455;\n",
              "      --disabled-fill-color: #666;\n",
              "  }\n",
              "\n",
              "  .colab-df-quickchart {\n",
              "    background-color: var(--bg-color);\n",
              "    border: none;\n",
              "    border-radius: 50%;\n",
              "    cursor: pointer;\n",
              "    display: none;\n",
              "    fill: var(--fill-color);\n",
              "    height: 32px;\n",
              "    padding: 0;\n",
              "    width: 32px;\n",
              "  }\n",
              "\n",
              "  .colab-df-quickchart:hover {\n",
              "    background-color: var(--hover-bg-color);\n",
              "    box-shadow: 0 1px 2px rgba(60, 64, 67, 0.3), 0 1px 3px 1px rgba(60, 64, 67, 0.15);\n",
              "    fill: var(--button-hover-fill-color);\n",
              "  }\n",
              "\n",
              "  .colab-df-quickchart-complete:disabled,\n",
              "  .colab-df-quickchart-complete:disabled:hover {\n",
              "    background-color: var(--disabled-bg-color);\n",
              "    fill: var(--disabled-fill-color);\n",
              "    box-shadow: none;\n",
              "  }\n",
              "\n",
              "  .colab-df-spinner {\n",
              "    border: 2px solid var(--fill-color);\n",
              "    border-color: transparent;\n",
              "    border-bottom-color: var(--fill-color);\n",
              "    animation:\n",
              "      spin 1s steps(1) infinite;\n",
              "  }\n",
              "\n",
              "  @keyframes spin {\n",
              "    0% {\n",
              "      border-color: transparent;\n",
              "      border-bottom-color: var(--fill-color);\n",
              "      border-left-color: var(--fill-color);\n",
              "    }\n",
              "    20% {\n",
              "      border-color: transparent;\n",
              "      border-left-color: var(--fill-color);\n",
              "      border-top-color: var(--fill-color);\n",
              "    }\n",
              "    30% {\n",
              "      border-color: transparent;\n",
              "      border-left-color: var(--fill-color);\n",
              "      border-top-color: var(--fill-color);\n",
              "      border-right-color: var(--fill-color);\n",
              "    }\n",
              "    40% {\n",
              "      border-color: transparent;\n",
              "      border-right-color: var(--fill-color);\n",
              "      border-top-color: var(--fill-color);\n",
              "    }\n",
              "    60% {\n",
              "      border-color: transparent;\n",
              "      border-right-color: var(--fill-color);\n",
              "    }\n",
              "    80% {\n",
              "      border-color: transparent;\n",
              "      border-right-color: var(--fill-color);\n",
              "      border-bottom-color: var(--fill-color);\n",
              "    }\n",
              "    90% {\n",
              "      border-color: transparent;\n",
              "      border-bottom-color: var(--fill-color);\n",
              "    }\n",
              "  }\n",
              "</style>\n",
              "\n",
              "  <script>\n",
              "    async function quickchart(key) {\n",
              "      const quickchartButtonEl =\n",
              "        document.querySelector('#' + key + ' button');\n",
              "      quickchartButtonEl.disabled = true;  // To prevent multiple clicks.\n",
              "      quickchartButtonEl.classList.add('colab-df-spinner');\n",
              "      try {\n",
              "        const charts = await google.colab.kernel.invokeFunction(\n",
              "            'suggestCharts', [key], {});\n",
              "      } catch (error) {\n",
              "        console.error('Error during call to suggestCharts:', error);\n",
              "      }\n",
              "      quickchartButtonEl.classList.remove('colab-df-spinner');\n",
              "      quickchartButtonEl.classList.add('colab-df-quickchart-complete');\n",
              "    }\n",
              "    (() => {\n",
              "      let quickchartButtonEl =\n",
              "        document.querySelector('#df-d866902b-9f6e-4e04-b776-5447f298deb2 button');\n",
              "      quickchartButtonEl.style.display =\n",
              "        google.colab.kernel.accessAllowed ? 'block' : 'none';\n",
              "    })();\n",
              "  </script>\n",
              "</div>\n",
              "    </div>\n",
              "  </div>\n"
            ]
          },
          "metadata": {},
          "execution_count": 4
        }
      ],
      "source": [
        "df = pd.read_csv('dataset_after_training.csv')\n",
        "df"
      ]
    },
    {
      "cell_type": "code",
      "execution_count": null,
      "metadata": {
        "colab": {
          "base_uri": "https://localhost:8080/"
        },
        "id": "6D4MZ5Q54fON",
        "outputId": "a60d19d9-ad0a-457e-a353-6b33df857ffc"
      },
      "outputs": [
        {
          "output_type": "execute_result",
          "data": {
            "text/plain": [
              "Index(['Unnamed: 0', 'trend_id', 'name', 'start_date', 'end_date',\n",
              "       'percentage_increase', 'previous_start_date', 'previous_end_date',\n",
              "       'previous_trend_duration', 'previous_percentage', 'classification',\n",
              "       'derivative', 'level', 'duration', 'harpoon_output_signal',\n",
              "       'harpoon_fuel', 'harpoon_burnout', 'harpoon_h9', 'harpoon_h21',\n",
              "       'harpoon_h14', 'top_gun_output_signal', 'top_gun_top_gun_a',\n",
              "       'top_gun_top_gun_b', 'top_gun_fuel', 'top_gun_burnout',\n",
              "       'maverick_output_signal', 'maverick_fuel', 'maverick_burnout',\n",
              "       'wind_output_signal', 'wind_crossover', 'sonar_output_signal',\n",
              "       'sonar_fuel', 'sonar_burnout', 'DAY', 'Coverage', 'Storm',\n",
              "       'Storm_Actual', 'Storm_Impact', 'date', 'Storm_MA30', 'Storm_MA7',\n",
              "       'binaryverdict_grouchy', 'Grouchy SVM', 'BinaryVerdictBernadotte',\n",
              "       'Bernadotte SVM', 'binaryverdict_Marmont', 'bernadotte_random_forest',\n",
              "       'Marmont_random_forest', 'Grouchy_random_forest'],\n",
              "      dtype='object')"
            ]
          },
          "metadata": {},
          "execution_count": 5
        }
      ],
      "source": [
        "df.columns"
      ]
    },
    {
      "cell_type": "code",
      "execution_count": null,
      "metadata": {
        "id": "FEaxqyg22TaR"
      },
      "outputs": [],
      "source": [
        "X = df[['previous_trend_duration','previous_percentage','harpoon_output_signal','harpoon_fuel','harpoon_burnout','harpoon_h9','harpoon_h21','harpoon_h14','top_gun_output_signal','top_gun_top_gun_a','top_gun_top_gun_b','top_gun_fuel','top_gun_burnout','maverick_output_signal','maverick_fuel','maverick_burnout','wind_output_signal','wind_crossover','sonar_output_signal','sonar_fuel','sonar_burnout','Storm','Storm_Actual','Storm_Impact','Storm_MA30','Storm_MA7','binaryverdict_grouchy', 'BinaryVerdictBernadotte',\n",
        "        'binaryverdict_Marmont', 'bernadotte_random_forest',\n",
        "       'Marmont_random_forest', 'Grouchy_random_forest']]\n",
        "y = df['classification']"
      ]
    },
    {
      "cell_type": "code",
      "execution_count": null,
      "metadata": {
        "id": "LY1L57zF5H5E"
      },
      "outputs": [],
      "source": [
        "  X_np = np.array(X)\n",
        "  column_means = np.nanmean(X_np, axis=0)\n",
        "  nan_indices = np.isnan(X_np)\n",
        "  X_np[nan_indices] = np.take(column_means, np.where(nan_indices)[1])\n"
      ]
    },
    {
      "cell_type": "code",
      "execution_count": null,
      "metadata": {
        "colab": {
          "base_uri": "https://localhost:8080/"
        },
        "id": "i_-iPZ-JXDzZ",
        "outputId": "850fb6ff-138b-4bad-ecc9-4d9958d184d1"
      },
      "outputs": [
        {
          "output_type": "execute_result",
          "data": {
            "text/plain": [
              "previous_trend_duration            NaN\n",
              "previous_percentage                NaN\n",
              "harpoon_output_signal         0.000000\n",
              "harpoon_fuel                  0.000000\n",
              "harpoon_burnout               0.000000\n",
              "harpoon_h9                    0.194838\n",
              "harpoon_h21                   0.242528\n",
              "harpoon_h14                   0.230074\n",
              "top_gun_output_signal         0.000000\n",
              "top_gun_top_gun_a            85.824697\n",
              "top_gun_top_gun_b            90.162612\n",
              "top_gun_fuel                  0.000000\n",
              "top_gun_burnout               0.000000\n",
              "maverick_output_signal       78.312343\n",
              "maverick_fuel                68.367492\n",
              "maverick_burnout              0.000000\n",
              "wind_output_signal           66.270483\n",
              "wind_crossover               43.982966\n",
              "sonar_output_signal           0.956342\n",
              "sonar_fuel                   58.771990\n",
              "sonar_burnout                48.877009\n",
              "Storm                       188.690567\n",
              "Storm_Actual                 94.054878\n",
              "Storm_Impact                278.937103\n",
              "Storm_MA30                   91.406998\n",
              "Storm_MA7                   113.188484\n",
              "binaryverdict_grouchy         1.000000\n",
              "BinaryVerdictBernadotte       1.000000\n",
              "binaryverdict_Marmont         1.000000\n",
              "bernadotte_random_forest      1.000000\n",
              "Marmont_random_forest         1.000000\n",
              "Grouchy_random_forest         1.000000\n",
              "Name: 0, dtype: float64"
            ]
          },
          "metadata": {},
          "execution_count": 8
        }
      ],
      "source": [
        "X.iloc[0]"
      ]
    },
    {
      "cell_type": "code",
      "execution_count": null,
      "metadata": {
        "colab": {
          "base_uri": "https://localhost:8080/",
          "height": 350
        },
        "id": "pLNzQb16X0PM",
        "outputId": "424491a0-fa95-42f5-a75c-0f1baea4d55f"
      },
      "outputs": [
        {
          "output_type": "execute_result",
          "data": {
            "text/plain": [
              "       previous_trend_duration  previous_percentage  harpoon_output_signal  \\\n",
              "count                  6897.00              6897.00                 6604.0   \n",
              "mean                     35.93                 2.05                    0.0   \n",
              "std                      26.09                18.41                    0.0   \n",
              "min                       2.00               -85.12                    0.0   \n",
              "25%                      19.00                -7.19                    0.0   \n",
              "50%                      29.00                 0.24                    0.0   \n",
              "75%                      47.00                 9.39                    0.0   \n",
              "max                     225.00               233.28                    0.0   \n",
              "\n",
              "       harpoon_fuel  harpoon_burnout  harpoon_h9  harpoon_h21  harpoon_h14  \\\n",
              "count        6604.0           6604.0     6604.00      6532.00      6604.00   \n",
              "mean            0.0              0.0        0.13         0.14         0.14   \n",
              "std             0.0              0.0        0.08         0.07         0.08   \n",
              "min             0.0              0.0        0.00         0.00         0.00   \n",
              "25%             0.0              0.0        0.05         0.09         0.07   \n",
              "50%             0.0              0.0        0.14         0.15         0.15   \n",
              "75%             0.0              0.0        0.21         0.20         0.21   \n",
              "max             0.0              0.0        0.25         0.25         0.25   \n",
              "\n",
              "       top_gun_output_signal  top_gun_top_gun_a  ...  Storm_Actual  \\\n",
              "count                 6604.0            6604.00  ...       7040.00   \n",
              "mean                     0.0              49.64  ...         79.55   \n",
              "std                      0.0              30.40  ...         56.37   \n",
              "min                      0.0               0.00  ...          0.00   \n",
              "25%                      0.0              22.24  ...         39.08   \n",
              "50%                      0.0              49.38  ...         67.10   \n",
              "75%                      0.0              76.83  ...        104.20   \n",
              "max                      0.0             100.00  ...        393.73   \n",
              "\n",
              "       Storm_Impact  Storm_MA30  Storm_MA7  binaryverdict_grouchy  \\\n",
              "count       7040.00     7040.00    7040.00                7040.00   \n",
              "mean         149.48      102.17     102.13                   0.51   \n",
              "std           89.36       42.77      47.64                   0.50   \n",
              "min            7.89       57.81      38.50                   0.00   \n",
              "25%           90.31       78.14      73.59                   0.00   \n",
              "50%          130.31       91.41      89.47                   1.00   \n",
              "75%          188.73      110.65     113.66                   1.00   \n",
              "max          816.15      341.66     439.83                   1.00   \n",
              "\n",
              "       BinaryVerdictBernadotte  binaryverdict_Marmont  \\\n",
              "count                  7040.00                7040.00   \n",
              "mean                      0.95                   0.89   \n",
              "std                       0.22                   0.31   \n",
              "min                       0.00                   0.00   \n",
              "25%                       1.00                   1.00   \n",
              "50%                       1.00                   1.00   \n",
              "75%                       1.00                   1.00   \n",
              "max                       1.00                   1.00   \n",
              "\n",
              "       bernadotte_random_forest  Marmont_random_forest  Grouchy_random_forest  \n",
              "count                   7040.00                7040.00                7040.00  \n",
              "mean                       0.97                   0.92                   0.51  \n",
              "std                        0.18                   0.27                   0.50  \n",
              "min                        0.00                   0.00                   0.00  \n",
              "25%                        1.00                   1.00                   0.00  \n",
              "50%                        1.00                   1.00                   1.00  \n",
              "75%                        1.00                   1.00                   1.00  \n",
              "max                        1.00                   1.00                   1.00  \n",
              "\n",
              "[8 rows x 32 columns]"
            ],
            "text/html": [
              "\n",
              "  <div id=\"df-58813c32-eff8-434b-985c-fe1e7cd79cab\" class=\"colab-df-container\">\n",
              "    <div>\n",
              "<style scoped>\n",
              "    .dataframe tbody tr th:only-of-type {\n",
              "        vertical-align: middle;\n",
              "    }\n",
              "\n",
              "    .dataframe tbody tr th {\n",
              "        vertical-align: top;\n",
              "    }\n",
              "\n",
              "    .dataframe thead th {\n",
              "        text-align: right;\n",
              "    }\n",
              "</style>\n",
              "<table border=\"1\" class=\"dataframe\">\n",
              "  <thead>\n",
              "    <tr style=\"text-align: right;\">\n",
              "      <th></th>\n",
              "      <th>previous_trend_duration</th>\n",
              "      <th>previous_percentage</th>\n",
              "      <th>harpoon_output_signal</th>\n",
              "      <th>harpoon_fuel</th>\n",
              "      <th>harpoon_burnout</th>\n",
              "      <th>harpoon_h9</th>\n",
              "      <th>harpoon_h21</th>\n",
              "      <th>harpoon_h14</th>\n",
              "      <th>top_gun_output_signal</th>\n",
              "      <th>top_gun_top_gun_a</th>\n",
              "      <th>...</th>\n",
              "      <th>Storm_Actual</th>\n",
              "      <th>Storm_Impact</th>\n",
              "      <th>Storm_MA30</th>\n",
              "      <th>Storm_MA7</th>\n",
              "      <th>binaryverdict_grouchy</th>\n",
              "      <th>BinaryVerdictBernadotte</th>\n",
              "      <th>binaryverdict_Marmont</th>\n",
              "      <th>bernadotte_random_forest</th>\n",
              "      <th>Marmont_random_forest</th>\n",
              "      <th>Grouchy_random_forest</th>\n",
              "    </tr>\n",
              "  </thead>\n",
              "  <tbody>\n",
              "    <tr>\n",
              "      <th>count</th>\n",
              "      <td>6897.00</td>\n",
              "      <td>6897.00</td>\n",
              "      <td>6604.0</td>\n",
              "      <td>6604.0</td>\n",
              "      <td>6604.0</td>\n",
              "      <td>6604.00</td>\n",
              "      <td>6532.00</td>\n",
              "      <td>6604.00</td>\n",
              "      <td>6604.0</td>\n",
              "      <td>6604.00</td>\n",
              "      <td>...</td>\n",
              "      <td>7040.00</td>\n",
              "      <td>7040.00</td>\n",
              "      <td>7040.00</td>\n",
              "      <td>7040.00</td>\n",
              "      <td>7040.00</td>\n",
              "      <td>7040.00</td>\n",
              "      <td>7040.00</td>\n",
              "      <td>7040.00</td>\n",
              "      <td>7040.00</td>\n",
              "      <td>7040.00</td>\n",
              "    </tr>\n",
              "    <tr>\n",
              "      <th>mean</th>\n",
              "      <td>35.93</td>\n",
              "      <td>2.05</td>\n",
              "      <td>0.0</td>\n",
              "      <td>0.0</td>\n",
              "      <td>0.0</td>\n",
              "      <td>0.13</td>\n",
              "      <td>0.14</td>\n",
              "      <td>0.14</td>\n",
              "      <td>0.0</td>\n",
              "      <td>49.64</td>\n",
              "      <td>...</td>\n",
              "      <td>79.55</td>\n",
              "      <td>149.48</td>\n",
              "      <td>102.17</td>\n",
              "      <td>102.13</td>\n",
              "      <td>0.51</td>\n",
              "      <td>0.95</td>\n",
              "      <td>0.89</td>\n",
              "      <td>0.97</td>\n",
              "      <td>0.92</td>\n",
              "      <td>0.51</td>\n",
              "    </tr>\n",
              "    <tr>\n",
              "      <th>std</th>\n",
              "      <td>26.09</td>\n",
              "      <td>18.41</td>\n",
              "      <td>0.0</td>\n",
              "      <td>0.0</td>\n",
              "      <td>0.0</td>\n",
              "      <td>0.08</td>\n",
              "      <td>0.07</td>\n",
              "      <td>0.08</td>\n",
              "      <td>0.0</td>\n",
              "      <td>30.40</td>\n",
              "      <td>...</td>\n",
              "      <td>56.37</td>\n",
              "      <td>89.36</td>\n",
              "      <td>42.77</td>\n",
              "      <td>47.64</td>\n",
              "      <td>0.50</td>\n",
              "      <td>0.22</td>\n",
              "      <td>0.31</td>\n",
              "      <td>0.18</td>\n",
              "      <td>0.27</td>\n",
              "      <td>0.50</td>\n",
              "    </tr>\n",
              "    <tr>\n",
              "      <th>min</th>\n",
              "      <td>2.00</td>\n",
              "      <td>-85.12</td>\n",
              "      <td>0.0</td>\n",
              "      <td>0.0</td>\n",
              "      <td>0.0</td>\n",
              "      <td>0.00</td>\n",
              "      <td>0.00</td>\n",
              "      <td>0.00</td>\n",
              "      <td>0.0</td>\n",
              "      <td>0.00</td>\n",
              "      <td>...</td>\n",
              "      <td>0.00</td>\n",
              "      <td>7.89</td>\n",
              "      <td>57.81</td>\n",
              "      <td>38.50</td>\n",
              "      <td>0.00</td>\n",
              "      <td>0.00</td>\n",
              "      <td>0.00</td>\n",
              "      <td>0.00</td>\n",
              "      <td>0.00</td>\n",
              "      <td>0.00</td>\n",
              "    </tr>\n",
              "    <tr>\n",
              "      <th>25%</th>\n",
              "      <td>19.00</td>\n",
              "      <td>-7.19</td>\n",
              "      <td>0.0</td>\n",
              "      <td>0.0</td>\n",
              "      <td>0.0</td>\n",
              "      <td>0.05</td>\n",
              "      <td>0.09</td>\n",
              "      <td>0.07</td>\n",
              "      <td>0.0</td>\n",
              "      <td>22.24</td>\n",
              "      <td>...</td>\n",
              "      <td>39.08</td>\n",
              "      <td>90.31</td>\n",
              "      <td>78.14</td>\n",
              "      <td>73.59</td>\n",
              "      <td>0.00</td>\n",
              "      <td>1.00</td>\n",
              "      <td>1.00</td>\n",
              "      <td>1.00</td>\n",
              "      <td>1.00</td>\n",
              "      <td>0.00</td>\n",
              "    </tr>\n",
              "    <tr>\n",
              "      <th>50%</th>\n",
              "      <td>29.00</td>\n",
              "      <td>0.24</td>\n",
              "      <td>0.0</td>\n",
              "      <td>0.0</td>\n",
              "      <td>0.0</td>\n",
              "      <td>0.14</td>\n",
              "      <td>0.15</td>\n",
              "      <td>0.15</td>\n",
              "      <td>0.0</td>\n",
              "      <td>49.38</td>\n",
              "      <td>...</td>\n",
              "      <td>67.10</td>\n",
              "      <td>130.31</td>\n",
              "      <td>91.41</td>\n",
              "      <td>89.47</td>\n",
              "      <td>1.00</td>\n",
              "      <td>1.00</td>\n",
              "      <td>1.00</td>\n",
              "      <td>1.00</td>\n",
              "      <td>1.00</td>\n",
              "      <td>1.00</td>\n",
              "    </tr>\n",
              "    <tr>\n",
              "      <th>75%</th>\n",
              "      <td>47.00</td>\n",
              "      <td>9.39</td>\n",
              "      <td>0.0</td>\n",
              "      <td>0.0</td>\n",
              "      <td>0.0</td>\n",
              "      <td>0.21</td>\n",
              "      <td>0.20</td>\n",
              "      <td>0.21</td>\n",
              "      <td>0.0</td>\n",
              "      <td>76.83</td>\n",
              "      <td>...</td>\n",
              "      <td>104.20</td>\n",
              "      <td>188.73</td>\n",
              "      <td>110.65</td>\n",
              "      <td>113.66</td>\n",
              "      <td>1.00</td>\n",
              "      <td>1.00</td>\n",
              "      <td>1.00</td>\n",
              "      <td>1.00</td>\n",
              "      <td>1.00</td>\n",
              "      <td>1.00</td>\n",
              "    </tr>\n",
              "    <tr>\n",
              "      <th>max</th>\n",
              "      <td>225.00</td>\n",
              "      <td>233.28</td>\n",
              "      <td>0.0</td>\n",
              "      <td>0.0</td>\n",
              "      <td>0.0</td>\n",
              "      <td>0.25</td>\n",
              "      <td>0.25</td>\n",
              "      <td>0.25</td>\n",
              "      <td>0.0</td>\n",
              "      <td>100.00</td>\n",
              "      <td>...</td>\n",
              "      <td>393.73</td>\n",
              "      <td>816.15</td>\n",
              "      <td>341.66</td>\n",
              "      <td>439.83</td>\n",
              "      <td>1.00</td>\n",
              "      <td>1.00</td>\n",
              "      <td>1.00</td>\n",
              "      <td>1.00</td>\n",
              "      <td>1.00</td>\n",
              "      <td>1.00</td>\n",
              "    </tr>\n",
              "  </tbody>\n",
              "</table>\n",
              "<p>8 rows × 32 columns</p>\n",
              "</div>\n",
              "    <div class=\"colab-df-buttons\">\n",
              "\n",
              "  <div class=\"colab-df-container\">\n",
              "    <button class=\"colab-df-convert\" onclick=\"convertToInteractive('df-58813c32-eff8-434b-985c-fe1e7cd79cab')\"\n",
              "            title=\"Convert this dataframe to an interactive table.\"\n",
              "            style=\"display:none;\">\n",
              "\n",
              "  <svg xmlns=\"http://www.w3.org/2000/svg\" height=\"24px\" viewBox=\"0 -960 960 960\">\n",
              "    <path d=\"M120-120v-720h720v720H120Zm60-500h600v-160H180v160Zm220 220h160v-160H400v160Zm0 220h160v-160H400v160ZM180-400h160v-160H180v160Zm440 0h160v-160H620v160ZM180-180h160v-160H180v160Zm440 0h160v-160H620v160Z\"/>\n",
              "  </svg>\n",
              "    </button>\n",
              "\n",
              "  <style>\n",
              "    .colab-df-container {\n",
              "      display:flex;\n",
              "      gap: 12px;\n",
              "    }\n",
              "\n",
              "    .colab-df-convert {\n",
              "      background-color: #E8F0FE;\n",
              "      border: none;\n",
              "      border-radius: 50%;\n",
              "      cursor: pointer;\n",
              "      display: none;\n",
              "      fill: #1967D2;\n",
              "      height: 32px;\n",
              "      padding: 0 0 0 0;\n",
              "      width: 32px;\n",
              "    }\n",
              "\n",
              "    .colab-df-convert:hover {\n",
              "      background-color: #E2EBFA;\n",
              "      box-shadow: 0px 1px 2px rgba(60, 64, 67, 0.3), 0px 1px 3px 1px rgba(60, 64, 67, 0.15);\n",
              "      fill: #174EA6;\n",
              "    }\n",
              "\n",
              "    .colab-df-buttons div {\n",
              "      margin-bottom: 4px;\n",
              "    }\n",
              "\n",
              "    [theme=dark] .colab-df-convert {\n",
              "      background-color: #3B4455;\n",
              "      fill: #D2E3FC;\n",
              "    }\n",
              "\n",
              "    [theme=dark] .colab-df-convert:hover {\n",
              "      background-color: #434B5C;\n",
              "      box-shadow: 0px 1px 3px 1px rgba(0, 0, 0, 0.15);\n",
              "      filter: drop-shadow(0px 1px 2px rgba(0, 0, 0, 0.3));\n",
              "      fill: #FFFFFF;\n",
              "    }\n",
              "  </style>\n",
              "\n",
              "    <script>\n",
              "      const buttonEl =\n",
              "        document.querySelector('#df-58813c32-eff8-434b-985c-fe1e7cd79cab button.colab-df-convert');\n",
              "      buttonEl.style.display =\n",
              "        google.colab.kernel.accessAllowed ? 'block' : 'none';\n",
              "\n",
              "      async function convertToInteractive(key) {\n",
              "        const element = document.querySelector('#df-58813c32-eff8-434b-985c-fe1e7cd79cab');\n",
              "        const dataTable =\n",
              "          await google.colab.kernel.invokeFunction('convertToInteractive',\n",
              "                                                    [key], {});\n",
              "        if (!dataTable) return;\n",
              "\n",
              "        const docLinkHtml = 'Like what you see? Visit the ' +\n",
              "          '<a target=\"_blank\" href=https://colab.research.google.com/notebooks/data_table.ipynb>data table notebook</a>'\n",
              "          + ' to learn more about interactive tables.';\n",
              "        element.innerHTML = '';\n",
              "        dataTable['output_type'] = 'display_data';\n",
              "        await google.colab.output.renderOutput(dataTable, element);\n",
              "        const docLink = document.createElement('div');\n",
              "        docLink.innerHTML = docLinkHtml;\n",
              "        element.appendChild(docLink);\n",
              "      }\n",
              "    </script>\n",
              "  </div>\n",
              "\n",
              "\n",
              "<div id=\"df-2ceef415-0f64-40a7-b166-12f23a27c48b\">\n",
              "  <button class=\"colab-df-quickchart\" onclick=\"quickchart('df-2ceef415-0f64-40a7-b166-12f23a27c48b')\"\n",
              "            title=\"Suggest charts.\"\n",
              "            style=\"display:none;\">\n",
              "\n",
              "<svg xmlns=\"http://www.w3.org/2000/svg\" height=\"24px\"viewBox=\"0 0 24 24\"\n",
              "     width=\"24px\">\n",
              "    <g>\n",
              "        <path d=\"M19 3H5c-1.1 0-2 .9-2 2v14c0 1.1.9 2 2 2h14c1.1 0 2-.9 2-2V5c0-1.1-.9-2-2-2zM9 17H7v-7h2v7zm4 0h-2V7h2v10zm4 0h-2v-4h2v4z\"/>\n",
              "    </g>\n",
              "</svg>\n",
              "  </button>\n",
              "\n",
              "<style>\n",
              "  .colab-df-quickchart {\n",
              "      --bg-color: #E8F0FE;\n",
              "      --fill-color: #1967D2;\n",
              "      --hover-bg-color: #E2EBFA;\n",
              "      --hover-fill-color: #174EA6;\n",
              "      --disabled-fill-color: #AAA;\n",
              "      --disabled-bg-color: #DDD;\n",
              "  }\n",
              "\n",
              "  [theme=dark] .colab-df-quickchart {\n",
              "      --bg-color: #3B4455;\n",
              "      --fill-color: #D2E3FC;\n",
              "      --hover-bg-color: #434B5C;\n",
              "      --hover-fill-color: #FFFFFF;\n",
              "      --disabled-bg-color: #3B4455;\n",
              "      --disabled-fill-color: #666;\n",
              "  }\n",
              "\n",
              "  .colab-df-quickchart {\n",
              "    background-color: var(--bg-color);\n",
              "    border: none;\n",
              "    border-radius: 50%;\n",
              "    cursor: pointer;\n",
              "    display: none;\n",
              "    fill: var(--fill-color);\n",
              "    height: 32px;\n",
              "    padding: 0;\n",
              "    width: 32px;\n",
              "  }\n",
              "\n",
              "  .colab-df-quickchart:hover {\n",
              "    background-color: var(--hover-bg-color);\n",
              "    box-shadow: 0 1px 2px rgba(60, 64, 67, 0.3), 0 1px 3px 1px rgba(60, 64, 67, 0.15);\n",
              "    fill: var(--button-hover-fill-color);\n",
              "  }\n",
              "\n",
              "  .colab-df-quickchart-complete:disabled,\n",
              "  .colab-df-quickchart-complete:disabled:hover {\n",
              "    background-color: var(--disabled-bg-color);\n",
              "    fill: var(--disabled-fill-color);\n",
              "    box-shadow: none;\n",
              "  }\n",
              "\n",
              "  .colab-df-spinner {\n",
              "    border: 2px solid var(--fill-color);\n",
              "    border-color: transparent;\n",
              "    border-bottom-color: var(--fill-color);\n",
              "    animation:\n",
              "      spin 1s steps(1) infinite;\n",
              "  }\n",
              "\n",
              "  @keyframes spin {\n",
              "    0% {\n",
              "      border-color: transparent;\n",
              "      border-bottom-color: var(--fill-color);\n",
              "      border-left-color: var(--fill-color);\n",
              "    }\n",
              "    20% {\n",
              "      border-color: transparent;\n",
              "      border-left-color: var(--fill-color);\n",
              "      border-top-color: var(--fill-color);\n",
              "    }\n",
              "    30% {\n",
              "      border-color: transparent;\n",
              "      border-left-color: var(--fill-color);\n",
              "      border-top-color: var(--fill-color);\n",
              "      border-right-color: var(--fill-color);\n",
              "    }\n",
              "    40% {\n",
              "      border-color: transparent;\n",
              "      border-right-color: var(--fill-color);\n",
              "      border-top-color: var(--fill-color);\n",
              "    }\n",
              "    60% {\n",
              "      border-color: transparent;\n",
              "      border-right-color: var(--fill-color);\n",
              "    }\n",
              "    80% {\n",
              "      border-color: transparent;\n",
              "      border-right-color: var(--fill-color);\n",
              "      border-bottom-color: var(--fill-color);\n",
              "    }\n",
              "    90% {\n",
              "      border-color: transparent;\n",
              "      border-bottom-color: var(--fill-color);\n",
              "    }\n",
              "  }\n",
              "</style>\n",
              "\n",
              "  <script>\n",
              "    async function quickchart(key) {\n",
              "      const quickchartButtonEl =\n",
              "        document.querySelector('#' + key + ' button');\n",
              "      quickchartButtonEl.disabled = true;  // To prevent multiple clicks.\n",
              "      quickchartButtonEl.classList.add('colab-df-spinner');\n",
              "      try {\n",
              "        const charts = await google.colab.kernel.invokeFunction(\n",
              "            'suggestCharts', [key], {});\n",
              "      } catch (error) {\n",
              "        console.error('Error during call to suggestCharts:', error);\n",
              "      }\n",
              "      quickchartButtonEl.classList.remove('colab-df-spinner');\n",
              "      quickchartButtonEl.classList.add('colab-df-quickchart-complete');\n",
              "    }\n",
              "    (() => {\n",
              "      let quickchartButtonEl =\n",
              "        document.querySelector('#df-2ceef415-0f64-40a7-b166-12f23a27c48b button');\n",
              "      quickchartButtonEl.style.display =\n",
              "        google.colab.kernel.accessAllowed ? 'block' : 'none';\n",
              "    })();\n",
              "  </script>\n",
              "</div>\n",
              "    </div>\n",
              "  </div>\n"
            ]
          },
          "metadata": {},
          "execution_count": 9
        }
      ],
      "source": [
        "X.describe().round(2)"
      ]
    },
    {
      "cell_type": "code",
      "execution_count": null,
      "metadata": {
        "colab": {
          "base_uri": "https://localhost:8080/"
        },
        "id": "plVdlpVXW_GY",
        "outputId": "23acfa68-d011-414c-b7ce-6bea0492d170"
      },
      "outputs": [
        {
          "output_type": "execute_result",
          "data": {
            "text/plain": [
              "array([3.59317094e+01, 2.05041148e+00, 0.00000000e+00, 0.00000000e+00,\n",
              "       0.00000000e+00, 1.94838445e-01, 2.42527773e-01, 2.30073987e-01,\n",
              "       0.00000000e+00, 8.58246970e+01, 9.01626118e+01, 0.00000000e+00,\n",
              "       0.00000000e+00, 7.83123430e+01, 6.83674916e+01, 0.00000000e+00,\n",
              "       6.62704835e+01, 4.39829659e+01, 9.56342486e-01, 5.87719904e+01,\n",
              "       4.88770094e+01, 1.88690567e+02, 9.40548782e+01, 2.78937103e+02,\n",
              "       9.14069977e+01, 1.13188484e+02, 1.00000000e+00, 1.00000000e+00,\n",
              "       1.00000000e+00, 1.00000000e+00, 1.00000000e+00, 1.00000000e+00])"
            ]
          },
          "metadata": {},
          "execution_count": 10
        }
      ],
      "source": [
        "# X_np = np.array(X)\n",
        "X_np[0]"
      ]
    },
    {
      "cell_type": "code",
      "execution_count": null,
      "metadata": {
        "id": "n0IcJkjBM3fc"
      },
      "outputs": [],
      "source": [
        "from sklearn.preprocessing import MinMaxScaler\n",
        "\n",
        "scaler = MinMaxScaler()\n",
        "normalized_features = scaler.fit_transform(X_np)"
      ]
    },
    {
      "cell_type": "code",
      "execution_count": null,
      "metadata": {
        "colab": {
          "base_uri": "https://localhost:8080/"
        },
        "id": "qyzllHt0Wj17",
        "outputId": "4ded6735-e202-4c99-f401-2a444bd7b9e6"
      },
      "outputs": [
        {
          "output_type": "execute_result",
          "data": {
            "text/plain": [
              "array([0.15216013, 0.27378494, 0.        , 0.        , 0.        ,\n",
              "       0.76970118, 0.95818904, 0.90923878, 0.        , 0.85824697,\n",
              "       0.90162612, 0.        , 0.        , 0.89672294, 0.76124529,\n",
              "       0.        , 0.6879764 , 0.66846765, 0.78882439, 0.02006618,\n",
              "       0.02251507, 0.33610383, 0.23888449, 0.33534461, 0.11835684,\n",
              "       0.18610957, 1.        , 1.        , 1.        , 1.        ,\n",
              "       1.        , 1.        ])"
            ]
          },
          "metadata": {},
          "execution_count": 12
        }
      ],
      "source": [
        "normalized_features[0]"
      ]
    },
    {
      "cell_type": "code",
      "execution_count": null,
      "metadata": {
        "colab": {
          "base_uri": "https://localhost:8080/"
        },
        "id": "9emPMJ_w5jsX",
        "outputId": "3848e3ca-c99f-4edc-fe43-873f18dc91f8"
      },
      "outputs": [
        {
          "output_type": "execute_result",
          "data": {
            "text/plain": [
              "0       4\n",
              "1       2\n",
              "2       1\n",
              "3       2\n",
              "4       7\n",
              "       ..\n",
              "7035    2\n",
              "7036    5\n",
              "7037    2\n",
              "7038    1\n",
              "7039    2\n",
              "Name: categorical_label, Length: 7040, dtype: int64"
            ]
          },
          "metadata": {},
          "execution_count": 13
        }
      ],
      "source": [
        "\n",
        "\n",
        "le = preprocessing.LabelEncoder()\n",
        "le.fit(df.classification)\n",
        "df['categorical_label'] = le.transform(df.classification)\n",
        "df['categorical_label']"
      ]
    },
    {
      "cell_type": "code",
      "execution_count": null,
      "metadata": {
        "id": "2qA1zIUd7slv"
      },
      "outputs": [],
      "source": [
        "y = df.categorical_label"
      ]
    },
    {
      "cell_type": "code",
      "execution_count": null,
      "metadata": {
        "id": "GiE9fD5s7O6h"
      },
      "outputs": [],
      "source": [
        "X_train, X_test, y_train, y_test = train_test_split(normalized_features,y,test_size=0.3)"
      ]
    },
    {
      "cell_type": "code",
      "execution_count": null,
      "metadata": {
        "colab": {
          "base_uri": "https://localhost:8080/"
        },
        "id": "0Hn1Ar1Z7w7x",
        "outputId": "1f33b4c7-a5f6-4bcf-ff86-e8ec2c685239"
      },
      "outputs": [
        {
          "output_type": "execute_result",
          "data": {
            "text/plain": [
              "0"
            ]
          },
          "metadata": {},
          "execution_count": 16
        }
      ],
      "source": [
        "np.count_nonzero(np.isnan(normalized_features))"
      ]
    },
    {
      "cell_type": "code",
      "execution_count": null,
      "metadata": {
        "colab": {
          "base_uri": "https://localhost:8080/"
        },
        "id": "vLiNQqMN8ayd",
        "outputId": "1a82dc66-7a22-421a-e876-f2e0da6ccfc5"
      },
      "outputs": [
        {
          "output_type": "execute_result",
          "data": {
            "text/plain": [
              "(2112,)"
            ]
          },
          "metadata": {},
          "execution_count": 17
        }
      ],
      "source": [
        "y_test.shape"
      ]
    },
    {
      "cell_type": "code",
      "execution_count": null,
      "metadata": {
        "colab": {
          "base_uri": "https://localhost:8080/"
        },
        "id": "gtHm0t198Wex",
        "outputId": "a641d879-4841-4546-876f-8dc6042c52ac"
      },
      "outputs": [
        {
          "output_type": "execute_result",
          "data": {
            "text/plain": [
              "array([0.09553151, 0.1583712 , 0.        , 0.        , 0.        ,\n",
              "       0.11680981, 0.06535529, 0.09249514, 0.        , 0.16447296,\n",
              "       0.1530439 , 0.        , 0.        , 0.14234293, 0.17084377,\n",
              "       0.        , 0.12667362, 0.10204851, 0.1425445 , 0.00967563,\n",
              "       0.01108895, 0.04165573, 0.03822921, 0.03449874, 0.00274955,\n",
              "       0.00954464, 0.        , 0.44382347, 0.44382347, 0.44382347,\n",
              "       0.44382347, 0.        ])"
            ]
          },
          "metadata": {},
          "execution_count": 18
        }
      ],
      "source": [
        "X_train_norm = normalize(X_train)\n",
        "X_train_norm[0]"
      ]
    },
    {
      "cell_type": "code",
      "execution_count": null,
      "metadata": {
        "colab": {
          "base_uri": "https://localhost:8080/"
        },
        "id": "BUMEoliF9ZaX",
        "outputId": "e6f3bc5a-2e80-4677-b94a-abe205e10f81"
      },
      "outputs": [
        {
          "output_type": "execute_result",
          "data": {
            "text/plain": [
              "(4928, 32)"
            ]
          },
          "metadata": {},
          "execution_count": 19
        }
      ],
      "source": [
        "X_train.shape"
      ]
    },
    {
      "cell_type": "code",
      "execution_count": null,
      "metadata": {
        "colab": {
          "base_uri": "https://localhost:8080/",
          "height": 668
        },
        "id": "UKJDO5R-848n",
        "outputId": "def2bc42-4133-447e-94ff-0ebca446bcb8"
      },
      "outputs": [
        {
          "output_type": "stream",
          "name": "stdout",
          "text": [
            "Epoch 1/500\n",
            "154/154 [==============================] - 1s 2ms/step - loss: 1.3956 - accuracy: 0.5379\n",
            "Epoch 2/500\n",
            "154/154 [==============================] - 0s 2ms/step - loss: 0.8098 - accuracy: 0.7459\n",
            "Epoch 3/500\n",
            "154/154 [==============================] - 0s 2ms/step - loss: 0.6661 - accuracy: 0.7573\n",
            "Epoch 4/500\n",
            "154/154 [==============================] - 0s 2ms/step - loss: 0.6103 - accuracy: 0.7595\n",
            "Epoch 5/500\n",
            "154/154 [==============================] - 0s 2ms/step - loss: 0.5822 - accuracy: 0.7638\n",
            "Epoch 6/500\n",
            "154/154 [==============================] - 0s 2ms/step - loss: 0.5663 - accuracy: 0.7664\n",
            "Epoch 7/500\n",
            "154/154 [==============================] - 0s 2ms/step - loss: 0.5564 - accuracy: 0.7670\n",
            "Epoch 8/500\n",
            "154/154 [==============================] - 0s 2ms/step - loss: 0.5490 - accuracy: 0.7675\n",
            "Epoch 9/500\n",
            "  1/154 [..............................] - ETA: 0s - loss: 0.6608 - accuracy: 0.7188"
          ]
        },
        {
          "output_type": "error",
          "ename": "KeyboardInterrupt",
          "evalue": "ignored",
          "traceback": [
            "\u001b[0;31m---------------------------------------------------------------------------\u001b[0m",
            "\u001b[0;31mKeyboardInterrupt\u001b[0m                         Traceback (most recent call last)",
            "\u001b[0;32m<ipython-input-21-8d41d2104a25>\u001b[0m in \u001b[0;36m<cell line: 13>\u001b[0;34m()\u001b[0m\n\u001b[1;32m     11\u001b[0m     \u001b[0mmetrics\u001b[0m \u001b[0;34m=\u001b[0m \u001b[0;34m[\u001b[0m\u001b[0;34m'accuracy'\u001b[0m\u001b[0;34m]\u001b[0m\u001b[0;34m\u001b[0m\u001b[0;34m\u001b[0m\u001b[0m\n\u001b[1;32m     12\u001b[0m )\n\u001b[0;32m---> 13\u001b[0;31m \u001b[0mmodel\u001b[0m\u001b[0;34m.\u001b[0m\u001b[0mfit\u001b[0m\u001b[0;34m(\u001b[0m\u001b[0mX_train\u001b[0m\u001b[0;34m,\u001b[0m\u001b[0my_train\u001b[0m\u001b[0;34m,\u001b[0m\u001b[0mepochs\u001b[0m \u001b[0;34m=\u001b[0m \u001b[0;36m500\u001b[0m\u001b[0;34m)\u001b[0m\u001b[0;34m\u001b[0m\u001b[0;34m\u001b[0m\u001b[0m\n\u001b[0m",
            "\u001b[0;32m/usr/local/lib/python3.10/dist-packages/keras/src/utils/traceback_utils.py\u001b[0m in \u001b[0;36merror_handler\u001b[0;34m(*args, **kwargs)\u001b[0m\n\u001b[1;32m     63\u001b[0m         \u001b[0mfiltered_tb\u001b[0m \u001b[0;34m=\u001b[0m \u001b[0;32mNone\u001b[0m\u001b[0;34m\u001b[0m\u001b[0;34m\u001b[0m\u001b[0m\n\u001b[1;32m     64\u001b[0m         \u001b[0;32mtry\u001b[0m\u001b[0;34m:\u001b[0m\u001b[0;34m\u001b[0m\u001b[0;34m\u001b[0m\u001b[0m\n\u001b[0;32m---> 65\u001b[0;31m             \u001b[0;32mreturn\u001b[0m \u001b[0mfn\u001b[0m\u001b[0;34m(\u001b[0m\u001b[0;34m*\u001b[0m\u001b[0margs\u001b[0m\u001b[0;34m,\u001b[0m \u001b[0;34m**\u001b[0m\u001b[0mkwargs\u001b[0m\u001b[0;34m)\u001b[0m\u001b[0;34m\u001b[0m\u001b[0;34m\u001b[0m\u001b[0m\n\u001b[0m\u001b[1;32m     66\u001b[0m         \u001b[0;32mexcept\u001b[0m \u001b[0mException\u001b[0m \u001b[0;32mas\u001b[0m \u001b[0me\u001b[0m\u001b[0;34m:\u001b[0m\u001b[0;34m\u001b[0m\u001b[0;34m\u001b[0m\u001b[0m\n\u001b[1;32m     67\u001b[0m             \u001b[0mfiltered_tb\u001b[0m \u001b[0;34m=\u001b[0m \u001b[0m_process_traceback_frames\u001b[0m\u001b[0;34m(\u001b[0m\u001b[0me\u001b[0m\u001b[0;34m.\u001b[0m\u001b[0m__traceback__\u001b[0m\u001b[0;34m)\u001b[0m\u001b[0;34m\u001b[0m\u001b[0;34m\u001b[0m\u001b[0m\n",
            "\u001b[0;32m/usr/local/lib/python3.10/dist-packages/keras/src/engine/training.py\u001b[0m in \u001b[0;36mfit\u001b[0;34m(self, x, y, batch_size, epochs, verbose, callbacks, validation_split, validation_data, shuffle, class_weight, sample_weight, initial_epoch, steps_per_epoch, validation_steps, validation_batch_size, validation_freq, max_queue_size, workers, use_multiprocessing)\u001b[0m\n\u001b[1;32m   1740\u001b[0m                         ):\n\u001b[1;32m   1741\u001b[0m                             \u001b[0mcallbacks\u001b[0m\u001b[0;34m.\u001b[0m\u001b[0mon_train_batch_begin\u001b[0m\u001b[0;34m(\u001b[0m\u001b[0mstep\u001b[0m\u001b[0;34m)\u001b[0m\u001b[0;34m\u001b[0m\u001b[0;34m\u001b[0m\u001b[0m\n\u001b[0;32m-> 1742\u001b[0;31m                             \u001b[0mtmp_logs\u001b[0m \u001b[0;34m=\u001b[0m \u001b[0mself\u001b[0m\u001b[0;34m.\u001b[0m\u001b[0mtrain_function\u001b[0m\u001b[0;34m(\u001b[0m\u001b[0miterator\u001b[0m\u001b[0;34m)\u001b[0m\u001b[0;34m\u001b[0m\u001b[0;34m\u001b[0m\u001b[0m\n\u001b[0m\u001b[1;32m   1743\u001b[0m                             \u001b[0;32mif\u001b[0m \u001b[0mdata_handler\u001b[0m\u001b[0;34m.\u001b[0m\u001b[0mshould_sync\u001b[0m\u001b[0;34m:\u001b[0m\u001b[0;34m\u001b[0m\u001b[0;34m\u001b[0m\u001b[0m\n\u001b[1;32m   1744\u001b[0m                                 \u001b[0mcontext\u001b[0m\u001b[0;34m.\u001b[0m\u001b[0masync_wait\u001b[0m\u001b[0;34m(\u001b[0m\u001b[0;34m)\u001b[0m\u001b[0;34m\u001b[0m\u001b[0;34m\u001b[0m\u001b[0m\n",
            "\u001b[0;32m/usr/local/lib/python3.10/dist-packages/tensorflow/python/util/traceback_utils.py\u001b[0m in \u001b[0;36merror_handler\u001b[0;34m(*args, **kwargs)\u001b[0m\n\u001b[1;32m    148\u001b[0m     \u001b[0mfiltered_tb\u001b[0m \u001b[0;34m=\u001b[0m \u001b[0;32mNone\u001b[0m\u001b[0;34m\u001b[0m\u001b[0;34m\u001b[0m\u001b[0m\n\u001b[1;32m    149\u001b[0m     \u001b[0;32mtry\u001b[0m\u001b[0;34m:\u001b[0m\u001b[0;34m\u001b[0m\u001b[0;34m\u001b[0m\u001b[0m\n\u001b[0;32m--> 150\u001b[0;31m       \u001b[0;32mreturn\u001b[0m \u001b[0mfn\u001b[0m\u001b[0;34m(\u001b[0m\u001b[0;34m*\u001b[0m\u001b[0margs\u001b[0m\u001b[0;34m,\u001b[0m \u001b[0;34m**\u001b[0m\u001b[0mkwargs\u001b[0m\u001b[0;34m)\u001b[0m\u001b[0;34m\u001b[0m\u001b[0;34m\u001b[0m\u001b[0m\n\u001b[0m\u001b[1;32m    151\u001b[0m     \u001b[0;32mexcept\u001b[0m \u001b[0mException\u001b[0m \u001b[0;32mas\u001b[0m \u001b[0me\u001b[0m\u001b[0;34m:\u001b[0m\u001b[0;34m\u001b[0m\u001b[0;34m\u001b[0m\u001b[0m\n\u001b[1;32m    152\u001b[0m       \u001b[0mfiltered_tb\u001b[0m \u001b[0;34m=\u001b[0m \u001b[0m_process_traceback_frames\u001b[0m\u001b[0;34m(\u001b[0m\u001b[0me\u001b[0m\u001b[0;34m.\u001b[0m\u001b[0m__traceback__\u001b[0m\u001b[0;34m)\u001b[0m\u001b[0;34m\u001b[0m\u001b[0;34m\u001b[0m\u001b[0m\n",
            "\u001b[0;32m/usr/local/lib/python3.10/dist-packages/tensorflow/python/eager/polymorphic_function/polymorphic_function.py\u001b[0m in \u001b[0;36m__call__\u001b[0;34m(self, *args, **kwds)\u001b[0m\n\u001b[1;32m    823\u001b[0m \u001b[0;34m\u001b[0m\u001b[0m\n\u001b[1;32m    824\u001b[0m       \u001b[0;32mwith\u001b[0m \u001b[0mOptionalXlaContext\u001b[0m\u001b[0;34m(\u001b[0m\u001b[0mself\u001b[0m\u001b[0;34m.\u001b[0m\u001b[0m_jit_compile\u001b[0m\u001b[0;34m)\u001b[0m\u001b[0;34m:\u001b[0m\u001b[0;34m\u001b[0m\u001b[0;34m\u001b[0m\u001b[0m\n\u001b[0;32m--> 825\u001b[0;31m         \u001b[0mresult\u001b[0m \u001b[0;34m=\u001b[0m \u001b[0mself\u001b[0m\u001b[0;34m.\u001b[0m\u001b[0m_call\u001b[0m\u001b[0;34m(\u001b[0m\u001b[0;34m*\u001b[0m\u001b[0margs\u001b[0m\u001b[0;34m,\u001b[0m \u001b[0;34m**\u001b[0m\u001b[0mkwds\u001b[0m\u001b[0;34m)\u001b[0m\u001b[0;34m\u001b[0m\u001b[0;34m\u001b[0m\u001b[0m\n\u001b[0m\u001b[1;32m    826\u001b[0m \u001b[0;34m\u001b[0m\u001b[0m\n\u001b[1;32m    827\u001b[0m       \u001b[0mnew_tracing_count\u001b[0m \u001b[0;34m=\u001b[0m \u001b[0mself\u001b[0m\u001b[0;34m.\u001b[0m\u001b[0mexperimental_get_tracing_count\u001b[0m\u001b[0;34m(\u001b[0m\u001b[0;34m)\u001b[0m\u001b[0;34m\u001b[0m\u001b[0;34m\u001b[0m\u001b[0m\n",
            "\u001b[0;32m/usr/local/lib/python3.10/dist-packages/tensorflow/python/eager/polymorphic_function/polymorphic_function.py\u001b[0m in \u001b[0;36m_call\u001b[0;34m(self, *args, **kwds)\u001b[0m\n\u001b[1;32m    855\u001b[0m       \u001b[0;31m# In this case we have created variables on the first call, so we run the\u001b[0m\u001b[0;34m\u001b[0m\u001b[0;34m\u001b[0m\u001b[0m\n\u001b[1;32m    856\u001b[0m       \u001b[0;31m# defunned version which is guaranteed to never create variables.\u001b[0m\u001b[0;34m\u001b[0m\u001b[0;34m\u001b[0m\u001b[0m\n\u001b[0;32m--> 857\u001b[0;31m       \u001b[0;32mreturn\u001b[0m \u001b[0mself\u001b[0m\u001b[0;34m.\u001b[0m\u001b[0m_no_variable_creation_fn\u001b[0m\u001b[0;34m(\u001b[0m\u001b[0;34m*\u001b[0m\u001b[0margs\u001b[0m\u001b[0;34m,\u001b[0m \u001b[0;34m**\u001b[0m\u001b[0mkwds\u001b[0m\u001b[0;34m)\u001b[0m  \u001b[0;31m# pylint: disable=not-callable\u001b[0m\u001b[0;34m\u001b[0m\u001b[0;34m\u001b[0m\u001b[0m\n\u001b[0m\u001b[1;32m    858\u001b[0m     \u001b[0;32melif\u001b[0m \u001b[0mself\u001b[0m\u001b[0;34m.\u001b[0m\u001b[0m_variable_creation_fn\u001b[0m \u001b[0;32mis\u001b[0m \u001b[0;32mnot\u001b[0m \u001b[0;32mNone\u001b[0m\u001b[0;34m:\u001b[0m\u001b[0;34m\u001b[0m\u001b[0;34m\u001b[0m\u001b[0m\n\u001b[1;32m    859\u001b[0m       \u001b[0;31m# Release the lock early so that multiple threads can perform the call\u001b[0m\u001b[0;34m\u001b[0m\u001b[0;34m\u001b[0m\u001b[0m\n",
            "\u001b[0;32m/usr/local/lib/python3.10/dist-packages/tensorflow/python/eager/polymorphic_function/tracing_compiler.py\u001b[0m in \u001b[0;36m__call__\u001b[0;34m(self, *args, **kwargs)\u001b[0m\n\u001b[1;32m    146\u001b[0m       (concrete_function,\n\u001b[1;32m    147\u001b[0m        filtered_flat_args) = self._maybe_define_function(args, kwargs)\n\u001b[0;32m--> 148\u001b[0;31m     return concrete_function._call_flat(\n\u001b[0m\u001b[1;32m    149\u001b[0m         filtered_flat_args, captured_inputs=concrete_function.captured_inputs)  # pylint: disable=protected-access\n\u001b[1;32m    150\u001b[0m \u001b[0;34m\u001b[0m\u001b[0m\n",
            "\u001b[0;32m/usr/local/lib/python3.10/dist-packages/tensorflow/python/eager/polymorphic_function/monomorphic_function.py\u001b[0m in \u001b[0;36m_call_flat\u001b[0;34m(self, args, captured_inputs)\u001b[0m\n\u001b[1;32m   1347\u001b[0m         and executing_eagerly):\n\u001b[1;32m   1348\u001b[0m       \u001b[0;31m# No tape is watching; skip to running the function.\u001b[0m\u001b[0;34m\u001b[0m\u001b[0;34m\u001b[0m\u001b[0m\n\u001b[0;32m-> 1349\u001b[0;31m       \u001b[0;32mreturn\u001b[0m \u001b[0mself\u001b[0m\u001b[0;34m.\u001b[0m\u001b[0m_build_call_outputs\u001b[0m\u001b[0;34m(\u001b[0m\u001b[0mself\u001b[0m\u001b[0;34m.\u001b[0m\u001b[0m_inference_function\u001b[0m\u001b[0;34m(\u001b[0m\u001b[0;34m*\u001b[0m\u001b[0margs\u001b[0m\u001b[0;34m)\u001b[0m\u001b[0;34m)\u001b[0m\u001b[0;34m\u001b[0m\u001b[0;34m\u001b[0m\u001b[0m\n\u001b[0m\u001b[1;32m   1350\u001b[0m     forward_backward = self._select_forward_and_backward_functions(\n\u001b[1;32m   1351\u001b[0m         \u001b[0margs\u001b[0m\u001b[0;34m,\u001b[0m\u001b[0;34m\u001b[0m\u001b[0;34m\u001b[0m\u001b[0m\n",
            "\u001b[0;32m/usr/local/lib/python3.10/dist-packages/tensorflow/python/eager/polymorphic_function/atomic_function.py\u001b[0m in \u001b[0;36m__call__\u001b[0;34m(self, *args)\u001b[0m\n\u001b[1;32m    194\u001b[0m         \u001b[0;32mwith\u001b[0m \u001b[0mrecord\u001b[0m\u001b[0;34m.\u001b[0m\u001b[0mstop_recording\u001b[0m\u001b[0;34m(\u001b[0m\u001b[0;34m)\u001b[0m\u001b[0;34m:\u001b[0m\u001b[0;34m\u001b[0m\u001b[0;34m\u001b[0m\u001b[0m\n\u001b[1;32m    195\u001b[0m           \u001b[0;32mif\u001b[0m \u001b[0mself\u001b[0m\u001b[0;34m.\u001b[0m\u001b[0m_bound_context\u001b[0m\u001b[0;34m.\u001b[0m\u001b[0mexecuting_eagerly\u001b[0m\u001b[0;34m(\u001b[0m\u001b[0;34m)\u001b[0m\u001b[0;34m:\u001b[0m\u001b[0;34m\u001b[0m\u001b[0;34m\u001b[0m\u001b[0m\n\u001b[0;32m--> 196\u001b[0;31m             outputs = self._bound_context.call_function(\n\u001b[0m\u001b[1;32m    197\u001b[0m                 \u001b[0mself\u001b[0m\u001b[0;34m.\u001b[0m\u001b[0mname\u001b[0m\u001b[0;34m,\u001b[0m\u001b[0;34m\u001b[0m\u001b[0;34m\u001b[0m\u001b[0m\n\u001b[1;32m    198\u001b[0m                 \u001b[0mlist\u001b[0m\u001b[0;34m(\u001b[0m\u001b[0margs\u001b[0m\u001b[0;34m)\u001b[0m\u001b[0;34m,\u001b[0m\u001b[0;34m\u001b[0m\u001b[0;34m\u001b[0m\u001b[0m\n",
            "\u001b[0;32m/usr/local/lib/python3.10/dist-packages/tensorflow/python/eager/context.py\u001b[0m in \u001b[0;36mcall_function\u001b[0;34m(self, name, tensor_inputs, num_outputs)\u001b[0m\n\u001b[1;32m   1455\u001b[0m     \u001b[0mcancellation_context\u001b[0m \u001b[0;34m=\u001b[0m \u001b[0mcancellation\u001b[0m\u001b[0;34m.\u001b[0m\u001b[0mcontext\u001b[0m\u001b[0;34m(\u001b[0m\u001b[0;34m)\u001b[0m\u001b[0;34m\u001b[0m\u001b[0;34m\u001b[0m\u001b[0m\n\u001b[1;32m   1456\u001b[0m     \u001b[0;32mif\u001b[0m \u001b[0mcancellation_context\u001b[0m \u001b[0;32mis\u001b[0m \u001b[0;32mNone\u001b[0m\u001b[0;34m:\u001b[0m\u001b[0;34m\u001b[0m\u001b[0;34m\u001b[0m\u001b[0m\n\u001b[0;32m-> 1457\u001b[0;31m       outputs = execute.execute(\n\u001b[0m\u001b[1;32m   1458\u001b[0m           \u001b[0mname\u001b[0m\u001b[0;34m.\u001b[0m\u001b[0mdecode\u001b[0m\u001b[0;34m(\u001b[0m\u001b[0;34m\"utf-8\"\u001b[0m\u001b[0;34m)\u001b[0m\u001b[0;34m,\u001b[0m\u001b[0;34m\u001b[0m\u001b[0;34m\u001b[0m\u001b[0m\n\u001b[1;32m   1459\u001b[0m           \u001b[0mnum_outputs\u001b[0m\u001b[0;34m=\u001b[0m\u001b[0mnum_outputs\u001b[0m\u001b[0;34m,\u001b[0m\u001b[0;34m\u001b[0m\u001b[0;34m\u001b[0m\u001b[0m\n",
            "\u001b[0;32m/usr/local/lib/python3.10/dist-packages/tensorflow/python/eager/execute.py\u001b[0m in \u001b[0;36mquick_execute\u001b[0;34m(op_name, num_outputs, inputs, attrs, ctx, name)\u001b[0m\n\u001b[1;32m     51\u001b[0m   \u001b[0;32mtry\u001b[0m\u001b[0;34m:\u001b[0m\u001b[0;34m\u001b[0m\u001b[0;34m\u001b[0m\u001b[0m\n\u001b[1;32m     52\u001b[0m     \u001b[0mctx\u001b[0m\u001b[0;34m.\u001b[0m\u001b[0mensure_initialized\u001b[0m\u001b[0;34m(\u001b[0m\u001b[0;34m)\u001b[0m\u001b[0;34m\u001b[0m\u001b[0;34m\u001b[0m\u001b[0m\n\u001b[0;32m---> 53\u001b[0;31m     tensors = pywrap_tfe.TFE_Py_Execute(ctx._handle, device_name, op_name,\n\u001b[0m\u001b[1;32m     54\u001b[0m                                         inputs, attrs, num_outputs)\n\u001b[1;32m     55\u001b[0m   \u001b[0;32mexcept\u001b[0m \u001b[0mcore\u001b[0m\u001b[0;34m.\u001b[0m\u001b[0m_NotOkStatusException\u001b[0m \u001b[0;32mas\u001b[0m \u001b[0me\u001b[0m\u001b[0;34m:\u001b[0m\u001b[0;34m\u001b[0m\u001b[0;34m\u001b[0m\u001b[0m\n",
            "\u001b[0;31mKeyboardInterrupt\u001b[0m: "
          ]
        }
      ],
      "source": [
        "model = keras.Sequential([\n",
        "    # Dense means all the neurons in 1 st layer connect with all the neuron in 2nd layer\n",
        "    keras.layers.Dense(50,input_shape=(32,),activation = 'relu'),\n",
        "    keras.layers.Dense(8,activation = 'sigmoid')\n",
        "])\n",
        "\n",
        "model.compile(\n",
        "    optimizer = 'adam',\n",
        "    # sparce means out output is an integer that is basically train_y\n",
        "    loss = 'sparse_categorical_crossentropy',\n",
        "    metrics = ['accuracy']\n",
        ")\n",
        "model.fit(X_train,y_train,epochs = 500)"
      ]
    },
    {
      "cell_type": "code",
      "execution_count": null,
      "metadata": {
        "id": "lmV3qqNoMTl6"
      },
      "outputs": [],
      "source": [
        "joblib.dump(model,'1st_iteration_NN_model_with_normalizedData.pkl')"
      ]
    },
    {
      "cell_type": "code",
      "execution_count": null,
      "metadata": {
        "id": "ARqPDuMEM9Ro"
      },
      "outputs": [],
      "source": [
        "model_path  ='1st_iteration_NN_model.pkl'"
      ]
    },
    {
      "cell_type": "code",
      "execution_count": null,
      "metadata": {
        "id": "rR9n2hByNCrq"
      },
      "outputs": [],
      "source": [
        "model = joblib.load('1st_iteration_NN_model_with_normalizedData.pkl')"
      ]
    },
    {
      "cell_type": "code",
      "execution_count": null,
      "metadata": {
        "colab": {
          "base_uri": "https://localhost:8080/"
        },
        "id": "3p32utuP9s1H",
        "outputId": "a5848767-e837-40f7-e534-8516b89395e0"
      },
      "outputs": [
        {
          "output_type": "stream",
          "name": "stdout",
          "text": [
            "220/220 [==============================] - 0s 1ms/step\n"
          ]
        }
      ],
      "source": [
        "predicted_normalized_features  = model.predict(normalized_features)\n",
        "predicted_label_full_dataset = [np.argmax(i) for i in predicted_normalized_features]\n"
      ]
    },
    {
      "cell_type": "code",
      "execution_count": null,
      "metadata": {
        "colab": {
          "base_uri": "https://localhost:8080/"
        },
        "id": "aLM-25Ii-uSV",
        "outputId": "91192392-afe6-4d74-b101-676ecec463cc"
      },
      "outputs": [
        {
          "output_type": "stream",
          "name": "stdout",
          "text": [
            "220/220 [==============================] - 1s 3ms/step - loss: 0.4601 - accuracy: 0.8105\n"
          ]
        },
        {
          "output_type": "execute_result",
          "data": {
            "text/plain": [
              "[0.46007558703422546, 0.8105113506317139]"
            ]
          },
          "metadata": {},
          "execution_count": 25
        }
      ],
      "source": [
        "model.evaluate(normalized_features,y)"
      ]
    },
    {
      "cell_type": "code",
      "execution_count": null,
      "metadata": {
        "colab": {
          "base_uri": "https://localhost:8080/"
        },
        "id": "pzr-nrFy_Yu0",
        "outputId": "e7ecb1aa-c15b-4e02-a172-926248ec6fd8"
      },
      "outputs": [
        {
          "output_type": "execute_result",
          "data": {
            "text/plain": [
              "<tf.Tensor: shape=(8, 8), dtype=int32, numpy=\n",
              "array([[ 350,    0,    0,    0,    0,    0,    0,    0],\n",
              "       [   0,  115,    0,    0,   11,  103,   71,   87],\n",
              "       [   0,    0, 3443,    0,    0,    0,    0,    0],\n",
              "       [   0,    0,    0,  761,    0,    0,    0,    0],\n",
              "       [   0,   43,    0,    0,   25,  117,   30,   26],\n",
              "       [   0,   38,    0,    0,   14,  338,   27,   44],\n",
              "       [   0,  115,    0,    0,    9,  109,  195,  165],\n",
              "       [   0,   87,    0,    0,   10,   86,  142,  479]], dtype=int32)>"
            ]
          },
          "metadata": {},
          "execution_count": 26
        }
      ],
      "source": [
        "cm = tf.math.confusion_matrix(labels = y,predictions = predicted_label_full_dataset)\n",
        "cm"
      ]
    },
    {
      "cell_type": "code",
      "source": [
        "original_labels = le.inverse_transform(np.unique(y))"
      ],
      "metadata": {
        "id": "-M6araGOe3m2"
      },
      "execution_count": null,
      "outputs": []
    },
    {
      "cell_type": "code",
      "source": [
        "original_labels"
      ],
      "metadata": {
        "colab": {
          "base_uri": "https://localhost:8080/"
        },
        "id": "08Ngkqpjhn4W",
        "outputId": "6f6030aa-22b1-4ceb-8924-29dff64f2749"
      },
      "execution_count": null,
      "outputs": [
        {
          "output_type": "execute_result",
          "data": {
            "text/plain": [
              "array(['Marshal Bernadotte', 'Marshal Davout', 'Marshal Grouchy',\n",
              "       'Marshal Marmont', 'Marshal Messena', 'Marshal Murat',\n",
              "       'Marshal Ney', 'Marshal Oudinot'], dtype=object)"
            ]
          },
          "metadata": {},
          "execution_count": 28
        }
      ]
    },
    {
      "cell_type": "code",
      "source": [
        "import seaborn as sn\n",
        "plt.figure(figsize = (9,7))\n",
        "sn.heatmap(cm,annot = True, fmt = 'd',xticklabels=original_labels, yticklabels=original_labels)\n",
        "plt.xlabel('Predicted')\n",
        "plt.ylabel('Truth')"
      ],
      "metadata": {
        "colab": {
          "base_uri": "https://localhost:8080/",
          "height": 759
        },
        "id": "4bMKik_8ebtB",
        "outputId": "aa0ddb37-2714-4b01-e477-2b427126a248"
      },
      "execution_count": null,
      "outputs": [
        {
          "output_type": "execute_result",
          "data": {
            "text/plain": [
              "Text(83.2222222222222, 0.5, 'Truth')"
            ]
          },
          "metadata": {},
          "execution_count": 29
        },
        {
          "output_type": "display_data",
          "data": {
            "text/plain": [
              "<Figure size 900x700 with 2 Axes>"
            ],
            "image/png": "[encoded data removed]"
          },
          "metadata": {}
        }
      ]
    },
    {
      "cell_type": "code",
      "source": [
        "cm\n"
      ],
      "metadata": {
        "colab": {
          "base_uri": "https://localhost:8080/"
        },
        "id": "RWxRZZzD6R62",
        "outputId": "b40fdb88-05db-4da1-9ede-97c20002a7ad"
      },
      "execution_count": null,
      "outputs": [
        {
          "output_type": "execute_result",
          "data": {
            "text/plain": [
              "<tf.Tensor: shape=(8, 8), dtype=int32, numpy=\n",
              "array([[ 350,    0,    0,    0,    0,    0,    0,    0],\n",
              "       [   0,  115,    0,    0,   11,  103,   71,   87],\n",
              "       [   0,    0, 3443,    0,    0,    0,    0,    0],\n",
              "       [   0,    0,    0,  761,    0,    0,    0,    0],\n",
              "       [   0,   43,    0,    0,   25,  117,   30,   26],\n",
              "       [   0,   38,    0,    0,   14,  338,   27,   44],\n",
              "       [   0,  115,    0,    0,    9,  109,  195,  165],\n",
              "       [   0,   87,    0,    0,   10,   86,  142,  479]], dtype=int32)>"
            ]
          },
          "metadata": {},
          "execution_count": 30
        }
      ]
    },
    {
      "cell_type": "code",
      "source": [
        "sum_rows  = np.sum(cm,axis=1)\n",
        "cm1 = tf.convert_to_tensor(np.array([cm[i]/sum_rows[i] for i in range(len(cm))]))\n",
        "# cm1 = cm[0]/sum_rows[0]\n"
      ],
      "metadata": {
        "id": "C10yqOD1_hV0"
      },
      "execution_count": null,
      "outputs": []
    },
    {
      "cell_type": "code",
      "source": [
        "cm2 = cm1*100\n",
        "cm2"
      ],
      "metadata": {
        "colab": {
          "base_uri": "https://localhost:8080/"
        },
        "id": "SlawTnNBA3Ge",
        "outputId": "220c5b94-b7e4-4366-844b-9a65240ab495"
      },
      "execution_count": null,
      "outputs": [
        {
          "output_type": "execute_result",
          "data": {
            "text/plain": [
              "<tf.Tensor: shape=(8, 8), dtype=float64, numpy=\n",
              "array([[100.        ,   0.        ,   0.        ,   0.        ,\n",
              "          0.        ,   0.        ,   0.        ,   0.        ],\n",
              "       [  0.        ,  29.71576227,   0.        ,   0.        ,\n",
              "          2.84237726,  26.61498708,  18.34625323,  22.48062016],\n",
              "       [  0.        ,   0.        , 100.        ,   0.        ,\n",
              "          0.        ,   0.        ,   0.        ,   0.        ],\n",
              "       [  0.        ,   0.        ,   0.        , 100.        ,\n",
              "          0.        ,   0.        ,   0.        ,   0.        ],\n",
              "       [  0.        ,  17.84232365,   0.        ,   0.        ,\n",
              "         10.37344398,  48.54771784,  12.44813278,  10.78838174],\n",
              "       [  0.        ,   8.24295011,   0.        ,   0.        ,\n",
              "          3.03687636,  73.31887202,   5.85683297,   9.54446855],\n",
              "       [  0.        ,  19.39291737,   0.        ,   0.        ,\n",
              "          1.51770658,  18.38111298,  32.8836425 ,  27.82462057],\n",
              "       [  0.        ,  10.82089552,   0.        ,   0.        ,\n",
              "          1.24378109,  10.69651741,  17.66169154,  59.57711443]])>"
            ]
          },
          "metadata": {},
          "execution_count": 32
        }
      ]
    },
    {
      "cell_type": "code",
      "source": [
        "plt.figure(figsize = (9,7))\n",
        "sn.heatmap(cm2,annot = True, fmt = '.2f',xticklabels=original_labels, yticklabels=original_labels)\n",
        "plt.title('Predicted Percentages')\n",
        "plt.xlabel('Predicted')\n",
        "plt.ylabel('Truth')"
      ],
      "metadata": {
        "colab": {
          "base_uri": "https://localhost:8080/",
          "height": 781
        },
        "id": "K5pFl9peCRd0",
        "outputId": "5f29bf7d-883e-4fe8-93c0-23a5874b2b28"
      },
      "execution_count": null,
      "outputs": [
        {
          "output_type": "execute_result",
          "data": {
            "text/plain": [
              "Text(83.2222222222222, 0.5, 'Truth')"
            ]
          },
          "metadata": {},
          "execution_count": 33
        },
        {
          "output_type": "display_data",
          "data": {
            "text/plain": [
              "<Figure size 900x700 with 2 Axes>"
            ],
            "image/png": "[encoded data removed]"
          },
          "metadata": {}
        }
      ]
    },
    {
      "cell_type": "code",
      "source": [
        "diagonal_entries_of_predicted_percentages = np.diagonal(cm2)"
      ],
      "metadata": {
        "id": "nLbsSLLrDR8Z"
      },
      "execution_count": null,
      "outputs": []
    },
    {
      "cell_type": "code",
      "source": [
        "predicted_percentages = {key:value for key,value in zip(original_labels,diagonal_entries_of_predicted_percentages)}\n",
        "print(predicted_percentages)"
      ],
      "metadata": {
        "colab": {
          "base_uri": "https://localhost:8080/"
        },
        "id": "kCBZmKaADhjq",
        "outputId": "5b009c6b-aea9-4de9-f79b-05ecb1e04765"
      },
      "execution_count": null,
      "outputs": [
        {
          "output_type": "stream",
          "name": "stdout",
          "text": [
            "{'Marshal Bernadotte': 100.0, 'Marshal Davout': 29.71576227390181, 'Marshal Grouchy': 100.0, 'Marshal Marmont': 100.0, 'Marshal Messena': 10.37344398340249, 'Marshal Murat': 73.31887201735357, 'Marshal Ney': 32.88364249578415, 'Marshal Oudinot': 59.5771144278607}\n"
          ]
        }
      ]
    },
    {
      "cell_type": "code",
      "source": [
        "list(predicted_percentages.keys())"
      ],
      "metadata": {
        "colab": {
          "base_uri": "https://localhost:8080/"
        },
        "id": "Hhs5Q_PuyJAA",
        "outputId": "8de8f28d-7b97-4c90-98cf-57c76f91c3c3"
      },
      "execution_count": null,
      "outputs": [
        {
          "output_type": "execute_result",
          "data": {
            "text/plain": [
              "['Marshal Bernadotte',\n",
              " 'Marshal Davout',\n",
              " 'Marshal Grouchy',\n",
              " 'Marshal Marmont',\n",
              " 'Marshal Messena',\n",
              " 'Marshal Murat',\n",
              " 'Marshal Ney',\n",
              " 'Marshal Oudinot']"
            ]
          },
          "metadata": {},
          "execution_count": 40
        }
      ]
    },
    {
      "cell_type": "code",
      "source": [
        "plt.figure(figsize = (15,7))\n",
        "plt.bar(predicted_percentages.keys(), predicted_percentages.values())\n",
        "\n",
        "# Add labels and a title\n",
        "plt.xlabel('Keys')\n",
        "plt.ylabel('Values')\n",
        "plt.title('Bar Graph of Keys vs Values')\n",
        "\n",
        "# Display the graph\n",
        "plt.show()"
      ],
      "metadata": {
        "colab": {
          "base_uri": "https://localhost:8080/",
          "height": 641
        },
        "id": "2jfGB0_JxVqV",
        "outputId": "fa81a4e3-acdb-46f0-f2ee-d10ff8297702"
      },
      "execution_count": null,
      "outputs": [
        {
          "output_type": "display_data",
          "data": {
            "text/plain": [
              "<Figure size 1500x700 with 1 Axes>"
            ],
            "image/png": "[encoded data removed]"
          },
          "metadata": {}
        }
      ]
    }
  ],
  "metadata": {
    "colab": {
      "provenance": []
    },
    "kernelspec": {
      "display_name": "Python 3",
      "name": "python3"
    },
    "language_info": {
      "name": "python"
    }
  },
  "nbformat": 4,
  "nbformat_minor": 0
}
