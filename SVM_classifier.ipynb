{
  "cells": [
    {
      "cell_type": "code",
      "execution_count": null,
      "metadata": {
        "id": "V4tVTSAycRgC"
      },
      "outputs": [],
      "source": [
        "from sklearn.metrics import confusion_matrix\n",
        "import matplotlib.pyplot as plt\n",
        "import seaborn as sns\n",
        "import pandas as pd\n",
        "%matplotlib inline\n",
        "import numpy as np\n",
        "from sklearn.svm import SVC\n",
        "from sklearn.metrics import accuracy_score\n",
        "from sklearn.model_selection import train_test_split\n",
        "from sklearn.preprocessing import normalize\n",
        "from sklearn.metrics import roc_curve, roc_auc_score"
      ]
    },
    {
      "cell_type": "code",
      "execution_count": null,
      "metadata": {
        "id": "5_HdBZlLcRgT"
      },
      "outputs": [],
      "source": [
        "#Adding Binaryverdict column for Grouchy\n",
        "df = pd.read_csv('C:/Users/munee/Desktop/SP/Training_01092023.csv')\n",
        "df['binaryverdict_g'] = df['classification'].apply(lambda x: 0 if x == 'Marshal Grouchy' else 1)\n",
        "df"
      ]
    },
    {
      "cell_type": "code",
      "execution_count": null,
      "metadata": {
        "id": "sp92wx0QcRgW"
      },
      "outputs": [],
      "source": [
        "X = df[['previous_trend_duration','previous_percentage','harpoon_output_signal','harpoon_fuel','harpoon_burnout','harpoon_h9','harpoon_h21','harpoon_h14','top_gun_output_signal','top_gun_top_gun_a','top_gun_top_gun_b','top_gun_fuel','top_gun_burnout','maverick_output_signal','maverick_fuel','maverick_burnout','wind_output_signal','wind_crossover','sonar_output_signal','sonar_fuel','sonar_burnout','Storm','Storm_Actual','Storm_Impact','Storm_MA30','Storm_MA7']]\n",
        "y = df['binaryverdict_g']\n",
        "X_train, X_test, y_train, y_test = train_test_split(X,y,test_size=0.3)\n",
        "X_train = np.array(X_train)"
      ]
    },
    {
      "cell_type": "code",
      "execution_count": null,
      "metadata": {
        "id": "i2twD4NGcRgZ"
      },
      "outputs": [],
      "source": [
        "#replacing NaNs and normalizing training data\n",
        "column_means = np.nanmean(X_train, axis=0)\n",
        "nan_indices = np.isnan(X_train)\n",
        "X_train[nan_indices] = np.take(column_means, np.where(nan_indices)[1])\n",
        "X_train_norm = normalize(X_train)\n",
        "X_train_norm.shape"
      ]
    },
    {
      "cell_type": "code",
      "execution_count": null,
      "metadata": {
        "id": "j5GC_WNdcRgc"
      },
      "outputs": [],
      "source": [
        "#replacing NaNs and normalizing test data\n",
        "X_test = np.array(X_test)\n",
        "column_means = np.nanmean(X_test, axis=0)\n",
        "nan_indices = np.isnan(X_test)\n",
        "X_test[nan_indices] = np.take(column_means, np.where(nan_indices)[1])\n",
        "X_test_norm = normalize(X_test)\n",
        "X_test_norm.shape"
      ]
    },
    {
      "cell_type": "code",
      "execution_count": null,
      "metadata": {
        "id": "KIP5qFd0cRgd"
      },
      "outputs": [],
      "source": [
        "svm_model = SVC(kernel='linear', C=1.0, random_state=42, probability=True)\n",
        "output = svm_model.fit(X_train_norm, y_train)"
      ]
    },
    {
      "cell_type": "code",
      "execution_count": null,
      "metadata": {
        "id": "r3L5gc2DcRgf"
      },
      "outputs": [],
      "source": [
        "y_pred = svm_model.predict(X_test_norm)"
      ]
    },
    {
      "cell_type": "code",
      "execution_count": null,
      "metadata": {
        "id": "dlFEqZnjcRgi"
      },
      "outputs": [],
      "source": [
        "accuracy = accuracy_score(y_test, y_pred)\n",
        "accuracy"
      ]
    },
    {
      "cell_type": "code",
      "execution_count": null,
      "metadata": {
        "id": "DpqN9GUJcRgk"
      },
      "outputs": [],
      "source": [
        "#Creating function to plot hyperplane\n",
        "def plot_svm_decision_boundary(clf, X, y):\n",
        "    xx, yy = np.meshgrid(np.linspace(X[:, 0].min() - 1, X[:, 0].max() + 1, 100),\n",
        "                         np.linspace(X[:, 1].min() - 1, X[:, 1].max() + 1, 100))\n",
        "\n",
        "    Z = clf.decision_function(np.c_[xx.ravel(), yy.ravel()])\n",
        "    Z = Z.reshape(xx.shape)\n",
        "\n",
        "    plt.contour(xx, yy, Z, levels=[-1, 0, 1], linestyles=['--', '-', '--'], colors='k')\n",
        "\n",
        "    plt.scatter(clf.support_vectors_[:, 0], clf.support_vectors_[:, 1], s=100, facecolors='none', edgecolors='k')"
      ]
    },
    {
      "cell_type": "code",
      "execution_count": null,
      "metadata": {
        "id": "m5OtDedBcRgm"
      },
      "outputs": [],
      "source": [
        "#plotting hyperplane\n",
        "plt.figure(figsize=(8, 6))\n",
        "plt.scatter(X[:, 2], X[:, 0], c=y, cmap=plt.cm.Paired)\n",
        "plot_svm_decision_boundary(svm_model, X, y)\n",
        "\n",
        "plt.title('SVM Hyperplane Plot')\n",
        "plt.xlabel('Feature 1')\n",
        "plt.ylabel('Feature 2')"
      ]
    },
    {
      "cell_type": "code",
      "execution_count": null,
      "metadata": {
        "id": "Q_IaGqTkcRgo"
      },
      "outputs": [],
      "source": [
        "#confusion matrix\n",
        "cm = confusion_matrix(y_test, y_pred)\n",
        "plt.figure(figsize=(8, 6))\n",
        "sns.heatmap(cm, annot=True, fmt='d', cmap='Blues')\n",
        "plt.xlabel('Predicted')\n",
        "plt.ylabel('True')\n",
        "plt.title('Confusion Matrix')"
      ]
    },
    {
      "cell_type": "code",
      "execution_count": null,
      "metadata": {
        "id": "3PYXqhffcRgq"
      },
      "outputs": [],
      "source": [
        "#ROC curve\n",
        "fpr, tpr, thresholds = roc_curve(y_test, svm_model.decision_function(X_test))\n",
        "auc = roc_auc_score(y_test, svm_model.decision_function(X_test))\n",
        "\n",
        "plt.figure(figsize=(8, 6))\n",
        "plt.plot(fpr, tpr, label=f'AUC = {auc:.2f}')\n",
        "plt.xlabel('False Positive Rate')\n",
        "plt.ylabel('True Positive Rate')\n",
        "plt.title('ROC Curve')\n",
        "plt.legend()"
      ]
    }
  ],
  "metadata": {
    "kernelspec": {
      "display_name": "Python 3",
      "language": "python",
      "name": "python3"
    },
    "language_info": {
      "codemirror_mode": {
        "name": "ipython",
        "version": 3
      },
      "file_extension": ".py",
      "mimetype": "text/x-python",
      "name": "python",
      "nbconvert_exporter": "python",
      "pygments_lexer": "ipython3",
      "version": "3.11.2"
    },
    "orig_nbformat": 4,
    "colab": {
      "provenance": []
    }
  },
  "nbformat": 4,
  "nbformat_minor": 0
}